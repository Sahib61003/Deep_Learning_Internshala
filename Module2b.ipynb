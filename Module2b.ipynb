{
 "cells": [
  {
   "cell_type": "markdown",
   "metadata": {},
   "source": [
    "# House Pricing Model Prediction"
   ]
  },
  {
   "cell_type": "markdown",
   "metadata": {},
   "source": [
    "Importing Libraries"
   ]
  },
  {
   "cell_type": "code",
   "execution_count": 57,
   "metadata": {},
   "outputs": [],
   "source": [
    "import numpy as np\n",
    "import pandas as pd\n",
    "import matplotlib.pyplot as plt\n",
    "import seaborn as sns\n",
    "import tensorflow as tf\n",
    "from tensorflow import keras\n"
   ]
  },
  {
   "cell_type": "markdown",
   "metadata": {},
   "source": [
    "Importing dataset"
   ]
  },
  {
   "cell_type": "code",
   "execution_count": 58,
   "metadata": {},
   "outputs": [],
   "source": [
    "from sklearn.datasets import fetch_california_housing\n",
    "housing = fetch_california_housing()"
   ]
  },
  {
   "cell_type": "code",
   "execution_count": 59,
   "metadata": {},
   "outputs": [
    {
     "name": "stdout",
     "output_type": "stream",
     "text": [
      "<built-in method keys of Bunch object at 0x000001D70D9835E0>\n"
     ]
    }
   ],
   "source": [
    "print(housing.keys)"
   ]
  },
  {
   "cell_type": "code",
   "execution_count": 60,
   "metadata": {},
   "outputs": [
    {
     "name": "stdout",
     "output_type": "stream",
     "text": [
      ".. _california_housing_dataset:\n",
      "\n",
      "California Housing dataset\n",
      "--------------------------\n",
      "\n",
      "**Data Set Characteristics:**\n",
      "\n",
      "    :Number of Instances: 20640\n",
      "\n",
      "    :Number of Attributes: 8 numeric, predictive attributes and the target\n",
      "\n",
      "    :Attribute Information:\n",
      "        - MedInc        median income in block group\n",
      "        - HouseAge      median house age in block group\n",
      "        - AveRooms      average number of rooms per household\n",
      "        - AveBedrms     average number of bedrooms per household\n",
      "        - Population    block group population\n",
      "        - AveOccup      average number of household members\n",
      "        - Latitude      block group latitude\n",
      "        - Longitude     block group longitude\n",
      "\n",
      "    :Missing Attribute Values: None\n",
      "\n",
      "This dataset was obtained from the StatLib repository.\n",
      "https://www.dcc.fc.up.pt/~ltorgo/Regression/cal_housing.html\n",
      "\n",
      "The target variable is the median house value for California districts,\n",
      "expressed in hundreds of thousands of dollars ($100,000).\n",
      "\n",
      "This dataset was derived from the 1990 U.S. census, using one row per census\n",
      "block group. A block group is the smallest geographical unit for which the U.S.\n",
      "Census Bureau publishes sample data (a block group typically has a population\n",
      "of 600 to 3,000 people).\n",
      "\n",
      "A household is a group of people residing within a home. Since the average\n",
      "number of rooms and bedrooms in this dataset are provided per household, these\n",
      "columns may take surprisingly large values for block groups with few households\n",
      "and many empty houses, such as vacation resorts.\n",
      "\n",
      "It can be downloaded/loaded using the\n",
      ":func:`sklearn.datasets.fetch_california_housing` function.\n",
      "\n",
      ".. topic:: References\n",
      "\n",
      "    - Pace, R. Kelley and Ronald Barry, Sparse Spatial Autoregressions,\n",
      "      Statistics and Probability Letters, 33 (1997) 291-297\n",
      "\n"
     ]
    }
   ],
   "source": [
    "print(housing.DESCR)"
   ]
  },
  {
   "cell_type": "markdown",
   "metadata": {},
   "source": [
    "Converting into pandas dataframe (outside project work)"
   ]
  },
  {
   "cell_type": "code",
   "execution_count": 61,
   "metadata": {},
   "outputs": [
    {
     "data": {
      "text/html": [
       "<div>\n",
       "<style scoped>\n",
       "    .dataframe tbody tr th:only-of-type {\n",
       "        vertical-align: middle;\n",
       "    }\n",
       "\n",
       "    .dataframe tbody tr th {\n",
       "        vertical-align: top;\n",
       "    }\n",
       "\n",
       "    .dataframe thead th {\n",
       "        text-align: right;\n",
       "    }\n",
       "</style>\n",
       "<table border=\"1\" class=\"dataframe\">\n",
       "  <thead>\n",
       "    <tr style=\"text-align: right;\">\n",
       "      <th></th>\n",
       "      <th>MedInc</th>\n",
       "      <th>HouseAge</th>\n",
       "      <th>AveRooms</th>\n",
       "      <th>AveBedrms</th>\n",
       "      <th>Population</th>\n",
       "      <th>AveOccup</th>\n",
       "      <th>Latitude</th>\n",
       "      <th>Longitude</th>\n",
       "      <th>MEDV</th>\n",
       "    </tr>\n",
       "  </thead>\n",
       "  <tbody>\n",
       "    <tr>\n",
       "      <th>0</th>\n",
       "      <td>8.3252</td>\n",
       "      <td>41.0</td>\n",
       "      <td>6.984127</td>\n",
       "      <td>1.023810</td>\n",
       "      <td>322.0</td>\n",
       "      <td>2.555556</td>\n",
       "      <td>37.88</td>\n",
       "      <td>-122.23</td>\n",
       "      <td>4.526</td>\n",
       "    </tr>\n",
       "    <tr>\n",
       "      <th>1</th>\n",
       "      <td>8.3014</td>\n",
       "      <td>21.0</td>\n",
       "      <td>6.238137</td>\n",
       "      <td>0.971880</td>\n",
       "      <td>2401.0</td>\n",
       "      <td>2.109842</td>\n",
       "      <td>37.86</td>\n",
       "      <td>-122.22</td>\n",
       "      <td>3.585</td>\n",
       "    </tr>\n",
       "    <tr>\n",
       "      <th>2</th>\n",
       "      <td>7.2574</td>\n",
       "      <td>52.0</td>\n",
       "      <td>8.288136</td>\n",
       "      <td>1.073446</td>\n",
       "      <td>496.0</td>\n",
       "      <td>2.802260</td>\n",
       "      <td>37.85</td>\n",
       "      <td>-122.24</td>\n",
       "      <td>3.521</td>\n",
       "    </tr>\n",
       "    <tr>\n",
       "      <th>3</th>\n",
       "      <td>5.6431</td>\n",
       "      <td>52.0</td>\n",
       "      <td>5.817352</td>\n",
       "      <td>1.073059</td>\n",
       "      <td>558.0</td>\n",
       "      <td>2.547945</td>\n",
       "      <td>37.85</td>\n",
       "      <td>-122.25</td>\n",
       "      <td>3.413</td>\n",
       "    </tr>\n",
       "    <tr>\n",
       "      <th>4</th>\n",
       "      <td>3.8462</td>\n",
       "      <td>52.0</td>\n",
       "      <td>6.281853</td>\n",
       "      <td>1.081081</td>\n",
       "      <td>565.0</td>\n",
       "      <td>2.181467</td>\n",
       "      <td>37.85</td>\n",
       "      <td>-122.25</td>\n",
       "      <td>3.422</td>\n",
       "    </tr>\n",
       "  </tbody>\n",
       "</table>\n",
       "</div>"
      ],
      "text/plain": [
       "   MedInc  HouseAge  AveRooms  AveBedrms  Population  AveOccup  Latitude  \\\n",
       "0  8.3252      41.0  6.984127   1.023810       322.0  2.555556     37.88   \n",
       "1  8.3014      21.0  6.238137   0.971880      2401.0  2.109842     37.86   \n",
       "2  7.2574      52.0  8.288136   1.073446       496.0  2.802260     37.85   \n",
       "3  5.6431      52.0  5.817352   1.073059       558.0  2.547945     37.85   \n",
       "4  3.8462      52.0  6.281853   1.081081       565.0  2.181467     37.85   \n",
       "\n",
       "   Longitude   MEDV  \n",
       "0    -122.23  4.526  \n",
       "1    -122.22  3.585  \n",
       "2    -122.24  3.521  \n",
       "3    -122.25  3.413  \n",
       "4    -122.25  3.422  "
      ]
     },
     "execution_count": 61,
     "metadata": {},
     "output_type": "execute_result"
    }
   ],
   "source": [
    "df = pd.DataFrame(housing.data, columns=housing.feature_names)\n",
    "df['MEDV'] = housing.target\n",
    "df.head()"
   ]
  },
  {
   "cell_type": "code",
   "execution_count": 62,
   "metadata": {},
   "outputs": [
    {
     "name": "stdout",
     "output_type": "stream",
     "text": [
      "['MedInc', 'HouseAge', 'AveRooms', 'AveBedrms', 'Population', 'AveOccup', 'Latitude', 'Longitude']\n"
     ]
    }
   ],
   "source": [
    "print(housing.feature_names)"
   ]
  },
  {
   "cell_type": "code",
   "execution_count": 63,
   "metadata": {},
   "outputs": [],
   "source": [
    "data = housing.data\n",
    "target = housing.target\n",
    "from sklearn.model_selection import train_test_split\n",
    "x_train_full, x_test, y_train_full, y_test = train_test_split(data, target, random_state=42)\n",
    "x_train, x_valid, y_train, y_valid = train_test_split(x_train_full, y_train_full, random_state=42)"
   ]
  },
  {
   "cell_type": "code",
   "execution_count": 64,
   "metadata": {},
   "outputs": [],
   "source": [
    "from sklearn.preprocessing import StandardScaler\n",
    "scaler = StandardScaler()\n",
    "x_train = scaler.fit_transform(x_train)\n",
    "x_valid = scaler.transform(x_valid)\n",
    "x_test = scaler.transform(x_test)\n"
   ]
  },
  {
   "cell_type": "code",
   "execution_count": 65,
   "metadata": {},
   "outputs": [],
   "source": [
    "np.random.seed(42)\n",
    "tf.random.set_seed(42)"
   ]
  },
  {
   "cell_type": "code",
   "execution_count": 66,
   "metadata": {},
   "outputs": [
    {
     "data": {
      "text/plain": [
       "(11610, 8)"
      ]
     },
     "execution_count": 66,
     "metadata": {},
     "output_type": "execute_result"
    }
   ],
   "source": [
    "x_train.shape"
   ]
  },
  {
   "cell_type": "code",
   "execution_count": 67,
   "metadata": {},
   "outputs": [],
   "source": [
    "model = keras.models.Sequential([\n",
    "    keras.layers.Dense(30, activation=\"relu\", input_shape=[8]),\n",
    "    keras.layers.Dense(30, activation=\"relu\"),\n",
    "    keras.layers.Dense(1)\n",
    "])"
   ]
  },
  {
   "cell_type": "markdown",
   "metadata": {},
   "source": [
    "Summary of model created"
   ]
  },
  {
   "cell_type": "code",
   "execution_count": 68,
   "metadata": {},
   "outputs": [
    {
     "name": "stdout",
     "output_type": "stream",
     "text": [
      "Model: \"sequential\"\n",
      "_________________________________________________________________\n",
      "Layer (type)                 Output Shape              Param #   \n",
      "=================================================================\n",
      "dense (Dense)                (None, 30)                270       \n",
      "_________________________________________________________________\n",
      "dense_1 (Dense)              (None, 30)                930       \n",
      "_________________________________________________________________\n",
      "dense_2 (Dense)              (None, 1)                 31        \n",
      "=================================================================\n",
      "Total params: 1,231\n",
      "Trainable params: 1,231\n",
      "Non-trainable params: 0\n",
      "_________________________________________________________________\n"
     ]
    }
   ],
   "source": [
    "model.summary()"
   ]
  },
  {
   "cell_type": "markdown",
   "metadata": {},
   "source": [
    "Compiling the model"
   ]
  },
  {
   "cell_type": "code",
   "execution_count": 69,
   "metadata": {},
   "outputs": [
    {
     "name": "stderr",
     "output_type": "stream",
     "text": [
      "c:\\Users\\Sahib Preet Singh\\AppData\\Local\\Programs\\Python\\Python39\\lib\\site-packages\\keras\\optimizer_v2\\optimizer_v2.py:355: UserWarning: The `lr` argument is deprecated, use `learning_rate` instead.\n",
      "  warnings.warn(\n"
     ]
    }
   ],
   "source": [
    "model.compile(loss=\"mean_squared_error\", optimizer=keras.optimizers.SGD(lr=1e-3), metrics=[\"mae\"])"
   ]
  },
  {
   "cell_type": "code",
   "execution_count": 70,
   "metadata": {},
   "outputs": [
    {
     "data": {
      "text/plain": [
       "(3870, 8)"
      ]
     },
     "execution_count": 70,
     "metadata": {},
     "output_type": "execute_result"
    }
   ],
   "source": [
    "x_valid.shape"
   ]
  },
  {
   "cell_type": "code",
   "execution_count": 71,
   "metadata": {},
   "outputs": [
    {
     "name": "stdout",
     "output_type": "stream",
     "text": [
      "Epoch 1/30\n"
     ]
    },
    {
     "name": "stdout",
     "output_type": "stream",
     "text": [
      "363/363 [==============================] - 3s 3ms/step - loss: 1.8866 - mae: 0.9900 - val_loss: 0.7126 - val_mae: 0.6368\n",
      "Epoch 2/30\n",
      "363/363 [==============================] - 1s 3ms/step - loss: 0.6577 - mae: 0.6042 - val_loss: 0.6880 - val_mae: 0.5704\n",
      "Epoch 3/30\n",
      "363/363 [==============================] - 1s 3ms/step - loss: 0.5934 - mae: 0.5618 - val_loss: 0.5803 - val_mae: 0.5352\n",
      "Epoch 4/30\n",
      "363/363 [==============================] - 1s 3ms/step - loss: 0.5557 - mae: 0.5398 - val_loss: 0.5166 - val_mae: 0.5207\n",
      "Epoch 5/30\n",
      "363/363 [==============================] - 1s 3ms/step - loss: 0.5272 - mae: 0.5237 - val_loss: 0.4895 - val_mae: 0.5022\n",
      "Epoch 6/30\n",
      "363/363 [==============================] - 1s 3ms/step - loss: 0.5033 - mae: 0.5113 - val_loss: 0.4951 - val_mae: 0.4934\n",
      "Epoch 7/30\n",
      "363/363 [==============================] - 1s 3ms/step - loss: 0.4854 - mae: 0.5010 - val_loss: 0.4861 - val_mae: 0.4838\n",
      "Epoch 8/30\n",
      "363/363 [==============================] - 1s 3ms/step - loss: 0.4709 - mae: 0.4924 - val_loss: 0.4554 - val_mae: 0.4753\n",
      "Epoch 9/30\n",
      "363/363 [==============================] - 1s 3ms/step - loss: 0.4578 - mae: 0.4857 - val_loss: 0.4413 - val_mae: 0.4671\n",
      "Epoch 10/30\n",
      "363/363 [==============================] - 1s 3ms/step - loss: 0.4474 - mae: 0.4797 - val_loss: 0.4379 - val_mae: 0.4623\n",
      "Epoch 11/30\n",
      "363/363 [==============================] - 1s 4ms/step - loss: 0.4393 - mae: 0.4744 - val_loss: 0.4396 - val_mae: 0.4638\n",
      "Epoch 12/30\n",
      "363/363 [==============================] - 1s 3ms/step - loss: 0.4318 - mae: 0.4703 - val_loss: 0.4507 - val_mae: 0.4573\n",
      "Epoch 13/30\n",
      "363/363 [==============================] - 1s 2ms/step - loss: 0.4261 - mae: 0.4674 - val_loss: 0.3997 - val_mae: 0.4517\n",
      "Epoch 14/30\n",
      "363/363 [==============================] - 1s 4ms/step - loss: 0.4202 - mae: 0.4636 - val_loss: 0.3956 - val_mae: 0.4497\n",
      "Epoch 15/30\n",
      "363/363 [==============================] - 2s 6ms/step - loss: 0.4155 - mae: 0.4613 - val_loss: 0.3916 - val_mae: 0.4464\n",
      "Epoch 16/30\n",
      "363/363 [==============================] - 2s 5ms/step - loss: 0.4112 - mae: 0.4591 - val_loss: 0.3937 - val_mae: 0.4445\n",
      "Epoch 17/30\n",
      "363/363 [==============================] - 2s 6ms/step - loss: 0.4077 - mae: 0.4569 - val_loss: 0.3809 - val_mae: 0.4390\n",
      "Epoch 18/30\n",
      "363/363 [==============================] - 2s 6ms/step - loss: 0.4040 - mae: 0.4545 - val_loss: 0.3793 - val_mae: 0.4368\n",
      "Epoch 19/30\n",
      "363/363 [==============================] - 1s 4ms/step - loss: 0.4004 - mae: 0.4521 - val_loss: 0.3850 - val_mae: 0.4369\n",
      "Epoch 20/30\n",
      "363/363 [==============================] - 1s 3ms/step - loss: 0.3980 - mae: 0.4508 - val_loss: 0.3809 - val_mae: 0.4368\n",
      "Epoch 21/30\n",
      "363/363 [==============================] - 3s 8ms/step - loss: 0.3949 - mae: 0.4488 - val_loss: 0.3701 - val_mae: 0.4350\n",
      "Epoch 22/30\n",
      "363/363 [==============================] - 2s 7ms/step - loss: 0.3924 - mae: 0.4474 - val_loss: 0.3781 - val_mae: 0.4358\n",
      "Epoch 23/30\n",
      "363/363 [==============================] - 2s 6ms/step - loss: 0.3898 - mae: 0.4462 - val_loss: 0.3650 - val_mae: 0.4267\n",
      "Epoch 24/30\n",
      "363/363 [==============================] - 2s 5ms/step - loss: 0.3874 - mae: 0.4438 - val_loss: 0.3655 - val_mae: 0.4271\n",
      "Epoch 25/30\n",
      "363/363 [==============================] - 1s 4ms/step - loss: 0.3851 - mae: 0.4427 - val_loss: 0.3611 - val_mae: 0.4257\n",
      "Epoch 26/30\n",
      "363/363 [==============================] - 2s 5ms/step - loss: 0.3829 - mae: 0.4412 - val_loss: 0.3626 - val_mae: 0.4256\n",
      "Epoch 27/30\n",
      "363/363 [==============================] - 1s 3ms/step - loss: 0.3809 - mae: 0.4398 - val_loss: 0.3564 - val_mae: 0.4242\n",
      "Epoch 28/30\n",
      "363/363 [==============================] - 2s 4ms/step - loss: 0.3788 - mae: 0.4382 - val_loss: 0.3579 - val_mae: 0.4259\n",
      "Epoch 29/30\n",
      "363/363 [==============================] - 1s 3ms/step - loss: 0.3769 - mae: 0.4373 - val_loss: 0.3561 - val_mae: 0.4244\n",
      "Epoch 30/30\n",
      "363/363 [==============================] - 1s 4ms/step - loss: 0.3750 - mae: 0.4359 - val_loss: 0.3548 - val_mae: 0.4214\n"
     ]
    }
   ],
   "source": [
    "model_history = model.fit(x_train, y_train, epochs=30, validation_data=(x_valid,y_valid))"
   ]
  },
  {
   "cell_type": "code",
   "execution_count": 72,
   "metadata": {},
   "outputs": [
    {
     "name": "stdout",
     "output_type": "stream",
     "text": [
      "162/162 [==============================] - 0s 2ms/step - loss: 0.3727 - mae: 0.4346\n"
     ]
    }
   ],
   "source": [
    "mae_test = model.evaluate(x_test, y_test)"
   ]
  },
  {
   "cell_type": "code",
   "execution_count": 73,
   "metadata": {},
   "outputs": [
    {
     "data": {
      "text/plain": [
       "{'loss': [1.8866397142410278,\n",
       "  0.6577126979827881,\n",
       "  0.593418538570404,\n",
       "  0.5557191371917725,\n",
       "  0.5271905064582825,\n",
       "  0.5032975673675537,\n",
       "  0.48535558581352234,\n",
       "  0.47091811895370483,\n",
       "  0.45779937505722046,\n",
       "  0.4474469721317291,\n",
       "  0.4393136501312256,\n",
       "  0.43176087737083435,\n",
       "  0.42605164647102356,\n",
       "  0.42017653584480286,\n",
       "  0.41549986600875854,\n",
       "  0.41116511821746826,\n",
       "  0.4077068567276001,\n",
       "  0.40395283699035645,\n",
       "  0.4004494547843933,\n",
       "  0.39796027541160583,\n",
       "  0.394916296005249,\n",
       "  0.3923809230327606,\n",
       "  0.38980725407600403,\n",
       "  0.3874099552631378,\n",
       "  0.3850752115249634,\n",
       "  0.38291803002357483,\n",
       "  0.3808581829071045,\n",
       "  0.37875914573669434,\n",
       "  0.3769364356994629,\n",
       "  0.37497687339782715],\n",
       " 'mae': [0.9900256991386414,\n",
       "  0.6041509509086609,\n",
       "  0.5618005990982056,\n",
       "  0.5398454070091248,\n",
       "  0.5237293243408203,\n",
       "  0.5112562775611877,\n",
       "  0.5010154247283936,\n",
       "  0.492448091506958,\n",
       "  0.4857262969017029,\n",
       "  0.4797375202178955,\n",
       "  0.4744163453578949,\n",
       "  0.4703480303287506,\n",
       "  0.46740883588790894,\n",
       "  0.4636021554470062,\n",
       "  0.461266428232193,\n",
       "  0.4591343402862549,\n",
       "  0.4568699896335602,\n",
       "  0.4545365273952484,\n",
       "  0.4521064758300781,\n",
       "  0.45083147287368774,\n",
       "  0.4488178491592407,\n",
       "  0.4474424719810486,\n",
       "  0.44620010256767273,\n",
       "  0.4437682628631592,\n",
       "  0.4427269995212555,\n",
       "  0.44115686416625977,\n",
       "  0.43981388211250305,\n",
       "  0.43824994564056396,\n",
       "  0.4372561573982239,\n",
       "  0.4359183609485626],\n",
       " 'val_loss': [0.7126054763793945,\n",
       "  0.6880088448524475,\n",
       "  0.5803285837173462,\n",
       "  0.5166085362434387,\n",
       "  0.48950764536857605,\n",
       "  0.49507930874824524,\n",
       "  0.4861254394054413,\n",
       "  0.4553801119327545,\n",
       "  0.4413370192050934,\n",
       "  0.43786391615867615,\n",
       "  0.43964439630508423,\n",
       "  0.45066899061203003,\n",
       "  0.39972344040870667,\n",
       "  0.39558932185173035,\n",
       "  0.3915725648403168,\n",
       "  0.3936830461025238,\n",
       "  0.38094857335090637,\n",
       "  0.379347562789917,\n",
       "  0.3850175738334656,\n",
       "  0.380946546792984,\n",
       "  0.37008610367774963,\n",
       "  0.3780854046344757,\n",
       "  0.3649766147136688,\n",
       "  0.3655155897140503,\n",
       "  0.36108672618865967,\n",
       "  0.36261090636253357,\n",
       "  0.3564354479312897,\n",
       "  0.3579291105270386,\n",
       "  0.3560630977153778,\n",
       "  0.35476282238960266],\n",
       " 'val_mae': [0.6368111968040466,\n",
       "  0.5703656673431396,\n",
       "  0.5351505279541016,\n",
       "  0.5206613540649414,\n",
       "  0.5022227168083191,\n",
       "  0.4933752417564392,\n",
       "  0.4838489592075348,\n",
       "  0.4752773940563202,\n",
       "  0.46705934405326843,\n",
       "  0.46234604716300964,\n",
       "  0.4637792706489563,\n",
       "  0.4572650194168091,\n",
       "  0.45166537165641785,\n",
       "  0.4496610760688782,\n",
       "  0.446370005607605,\n",
       "  0.4444962739944458,\n",
       "  0.43897414207458496,\n",
       "  0.43681108951568604,\n",
       "  0.4369049370288849,\n",
       "  0.43676161766052246,\n",
       "  0.43497899174690247,\n",
       "  0.43578681349754333,\n",
       "  0.42667096853256226,\n",
       "  0.4271409213542938,\n",
       "  0.4257424771785736,\n",
       "  0.42560702562332153,\n",
       "  0.4241633117198944,\n",
       "  0.4259428381919861,\n",
       "  0.4243682622909546,\n",
       "  0.4213896095752716]}"
      ]
     },
     "execution_count": 73,
     "metadata": {},
     "output_type": "execute_result"
    }
   ],
   "source": [
    "model_history.history"
   ]
  },
  {
   "cell_type": "code",
   "execution_count": 74,
   "metadata": {},
   "outputs": [
    {
     "data": {
      "image/png": "[encoded data removed]",
      "text/plain": [
       "<Figure size 700x700 with 1 Axes>"
      ]
     },
     "metadata": {},
     "output_type": "display_data"
    }
   ],
   "source": [
    "pd.DataFrame(model_history.history).plot(figsize=(7,7))\n",
    "plt.grid(True)\n",
    "plt.gca().set_ylim(0,1)\n",
    "plt.show()"
   ]
  },
  {
   "cell_type": "code",
   "execution_count": 75,
   "metadata": {},
   "outputs": [
    {
     "name": "stdout",
     "output_type": "stream",
     "text": [
      "[[0.7952126]\n",
      " [1.9871078]\n",
      " [1.4429836]\n",
      " [1.9661204]\n",
      " [2.482309 ]]\n",
      "[1.232 2.539 2.151 2.205 2.198]\n"
     ]
    }
   ],
   "source": [
    "x_new = x_test[10:15]\n",
    "y_pred = model.predict(x_new)\n",
    "print(y_pred)\n",
    "print(y_test[10:15])"
   ]
  },
  {
   "cell_type": "markdown",
   "metadata": {},
   "source": [
    "Till now we have used Sequential API but not all neural networks are simply sequential. \n",
    "Some may have multiple inputs, multiple outputs, or may even have internal branching between layers.\n",
    "For these cases, it is best to use the functional API, which allows us to build arbitrary graphs of layers.\n",
    "\n",
    "**Functional API** is flexible and performs better at these situations"
   ]
  },
  {
   "cell_type": "code",
   "execution_count": 76,
   "metadata": {},
   "outputs": [],
   "source": [
    "# Deleting the model \n",
    "del model"
   ]
  },
  {
   "cell_type": "code",
   "execution_count": 77,
   "metadata": {},
   "outputs": [],
   "source": [
    "# Clearing sessions and free resources\n",
    "keras.backend.clear_session()"
   ]
  },
  {
   "cell_type": "code",
   "execution_count": 84,
   "metadata": {},
   "outputs": [],
   "source": [
    "input_ = keras.layers.Input(shape=x_train.shape[1:])\n",
    "hidden1 = keras.layers.Dense(30, activation=\"relu\")(input_)\n",
    "hidden2 = keras.layers.Dense(30, activation=\"relu\")(hidden1)\n",
    "concat = keras.layers.Concatenate()([input_, hidden2])\n",
    "output = keras.layers.Dense(1)(concat)\n",
    "model = keras.Model(inputs=[input_], outputs=[output])"
   ]
  },
  {
   "cell_type": "code",
   "execution_count": 85,
   "metadata": {},
   "outputs": [
    {
     "name": "stdout",
     "output_type": "stream",
     "text": [
      "Model: \"model\"\n",
      "__________________________________________________________________________________________________\n",
      "Layer (type)                    Output Shape         Param #     Connected to                     \n",
      "==================================================================================================\n",
      "input_7 (InputLayer)            [(None, 8)]          0                                            \n",
      "__________________________________________________________________________________________________\n",
      "dense_11 (Dense)                (None, 30)           270         input_7[0][0]                    \n",
      "__________________________________________________________________________________________________\n",
      "dense_12 (Dense)                (None, 30)           930         dense_11[0][0]                   \n",
      "__________________________________________________________________________________________________\n",
      "concatenate_3 (Concatenate)     (None, 38)           0           input_7[0][0]                    \n",
      "                                                                 dense_12[0][0]                   \n",
      "__________________________________________________________________________________________________\n",
      "dense_13 (Dense)                (None, 1)            39          concatenate_3[0][0]              \n",
      "==================================================================================================\n",
      "Total params: 1,239\n",
      "Trainable params: 1,239\n",
      "Non-trainable params: 0\n",
      "__________________________________________________________________________________________________\n"
     ]
    }
   ],
   "source": [
    "model.summary()"
   ]
  },
  {
   "cell_type": "code",
   "execution_count": 86,
   "metadata": {},
   "outputs": [
    {
     "name": "stderr",
     "output_type": "stream",
     "text": [
      "c:\\Users\\Sahib Preet Singh\\AppData\\Local\\Programs\\Python\\Python39\\lib\\site-packages\\keras\\optimizer_v2\\optimizer_v2.py:355: UserWarning: The `lr` argument is deprecated, use `learning_rate` instead.\n",
      "  warnings.warn(\n"
     ]
    }
   ],
   "source": [
    "model.compile(loss=\"mean_squared_error\",\n",
    "              optimizer=keras.optimizers.SGD(lr=1e-3),\n",
    "                metrics=[\"mae\"])\n"
   ]
  },
  {
   "cell_type": "code",
   "execution_count": 91,
   "metadata": {},
   "outputs": [
    {
     "name": "stdout",
     "output_type": "stream",
     "text": [
      "Epoch 1/50\n",
      "  1/363 [..............................] - ETA: 3s - loss: 0.4469 - mae: 0.5087"
     ]
    },
    {
     "name": "stdout",
     "output_type": "stream",
     "text": [
      "363/363 [==============================] - 2s 7ms/step - loss: 0.3609 - mae: 0.4290 - val_loss: 0.3457 - val_mae: 0.4198\n",
      "Epoch 2/50\n",
      "363/363 [==============================] - 3s 7ms/step - loss: 0.3601 - mae: 0.4283 - val_loss: 0.3731 - val_mae: 0.4253\n",
      "Epoch 3/50\n",
      "363/363 [==============================] - 2s 6ms/step - loss: 0.3596 - mae: 0.4283 - val_loss: 0.3531 - val_mae: 0.4201\n",
      "Epoch 4/50\n",
      "363/363 [==============================] - 2s 5ms/step - loss: 0.3590 - mae: 0.4276 - val_loss: 0.3421 - val_mae: 0.4204\n",
      "Epoch 5/50\n",
      "363/363 [==============================] - 2s 5ms/step - loss: 0.3581 - mae: 0.4271 - val_loss: 0.3405 - val_mae: 0.4191\n",
      "Epoch 6/50\n",
      "363/363 [==============================] - 1s 4ms/step - loss: 0.3575 - mae: 0.4269 - val_loss: 0.3457 - val_mae: 0.4179\n",
      "Epoch 7/50\n",
      "363/363 [==============================] - 2s 4ms/step - loss: 0.3568 - mae: 0.4258 - val_loss: 0.3440 - val_mae: 0.4198\n",
      "Epoch 8/50\n",
      "363/363 [==============================] - 2s 4ms/step - loss: 0.3564 - mae: 0.4261 - val_loss: 0.3390 - val_mae: 0.4165\n",
      "Epoch 9/50\n",
      "363/363 [==============================] - 2s 5ms/step - loss: 0.3556 - mae: 0.4254 - val_loss: 0.3518 - val_mae: 0.4174\n",
      "Epoch 10/50\n",
      "363/363 [==============================] - 2s 4ms/step - loss: 0.3550 - mae: 0.4250 - val_loss: 0.3626 - val_mae: 0.4177\n",
      "Epoch 11/50\n",
      "363/363 [==============================] - 2s 5ms/step - loss: 0.3548 - mae: 0.4243 - val_loss: 0.3408 - val_mae: 0.4164\n",
      "Epoch 12/50\n",
      "363/363 [==============================] - 2s 4ms/step - loss: 0.3539 - mae: 0.4241 - val_loss: 0.4204 - val_mae: 0.4224\n",
      "Epoch 13/50\n",
      "363/363 [==============================] - 2s 4ms/step - loss: 0.3540 - mae: 0.4239 - val_loss: 0.3414 - val_mae: 0.4182\n",
      "Epoch 14/50\n",
      "363/363 [==============================] - 2s 4ms/step - loss: 0.3530 - mae: 0.4232 - val_loss: 0.3389 - val_mae: 0.4162\n",
      "Epoch 15/50\n",
      "363/363 [==============================] - 2s 6ms/step - loss: 0.3523 - mae: 0.4229 - val_loss: 0.3724 - val_mae: 0.4194\n",
      "Epoch 16/50\n",
      "363/363 [==============================] - 2s 5ms/step - loss: 0.3521 - mae: 0.4228 - val_loss: 0.3358 - val_mae: 0.4148\n",
      "Epoch 17/50\n",
      "363/363 [==============================] - 2s 5ms/step - loss: 0.3515 - mae: 0.4224 - val_loss: 0.3863 - val_mae: 0.4187\n",
      "Epoch 18/50\n",
      "363/363 [==============================] - 2s 4ms/step - loss: 0.3512 - mae: 0.4221 - val_loss: 0.3591 - val_mae: 0.4157\n",
      "Epoch 19/50\n",
      "363/363 [==============================] - 2s 5ms/step - loss: 0.3502 - mae: 0.4213 - val_loss: 0.3671 - val_mae: 0.4171\n",
      "Epoch 20/50\n",
      "363/363 [==============================] - 2s 5ms/step - loss: 0.3501 - mae: 0.4210 - val_loss: 0.4131 - val_mae: 0.4208\n",
      "Epoch 21/50\n",
      "363/363 [==============================] - 2s 7ms/step - loss: 0.3498 - mae: 0.4208 - val_loss: 0.3774 - val_mae: 0.4193\n",
      "Epoch 22/50\n",
      "363/363 [==============================] - 2s 6ms/step - loss: 0.3490 - mae: 0.4207 - val_loss: 0.4265 - val_mae: 0.4227\n",
      "Epoch 23/50\n",
      "363/363 [==============================] - 2s 5ms/step - loss: 0.3490 - mae: 0.4211 - val_loss: 0.3326 - val_mae: 0.4093\n",
      "Epoch 24/50\n",
      "363/363 [==============================] - 2s 5ms/step - loss: 0.3483 - mae: 0.4195 - val_loss: 0.3916 - val_mae: 0.4168\n",
      "Epoch 25/50\n",
      "363/363 [==============================] - 2s 5ms/step - loss: 0.3479 - mae: 0.4196 - val_loss: 0.4058 - val_mae: 0.4176\n",
      "Epoch 26/50\n",
      "363/363 [==============================] - 2s 6ms/step - loss: 0.3474 - mae: 0.4194 - val_loss: 0.4008 - val_mae: 0.4173\n",
      "Epoch 27/50\n",
      "363/363 [==============================] - 2s 5ms/step - loss: 0.3473 - mae: 0.4191 - val_loss: 0.3314 - val_mae: 0.4099\n",
      "Epoch 28/50\n",
      "363/363 [==============================] - 2s 6ms/step - loss: 0.3468 - mae: 0.4182 - val_loss: 0.3937 - val_mae: 0.4185\n",
      "Epoch 29/50\n",
      "363/363 [==============================] - 2s 5ms/step - loss: 0.3466 - mae: 0.4187 - val_loss: 0.3631 - val_mae: 0.4155\n",
      "Epoch 30/50\n",
      "363/363 [==============================] - 2s 5ms/step - loss: 0.3458 - mae: 0.4181 - val_loss: 0.4052 - val_mae: 0.4157\n",
      "Epoch 31/50\n",
      "363/363 [==============================] - 2s 5ms/step - loss: 0.3458 - mae: 0.4175 - val_loss: 0.3579 - val_mae: 0.4130\n",
      "Epoch 32/50\n",
      "363/363 [==============================] - 1s 4ms/step - loss: 0.3450 - mae: 0.4173 - val_loss: 0.4140 - val_mae: 0.4195\n",
      "Epoch 33/50\n",
      "363/363 [==============================] - 2s 5ms/step - loss: 0.3451 - mae: 0.4176 - val_loss: 0.3538 - val_mae: 0.4130\n",
      "Epoch 34/50\n",
      "363/363 [==============================] - 2s 5ms/step - loss: 0.3443 - mae: 0.4167 - val_loss: 0.3466 - val_mae: 0.4127\n",
      "Epoch 35/50\n",
      "363/363 [==============================] - 2s 6ms/step - loss: 0.3441 - mae: 0.4166 - val_loss: 0.4010 - val_mae: 0.4181\n",
      "Epoch 36/50\n",
      "363/363 [==============================] - 2s 5ms/step - loss: 0.3439 - mae: 0.4168 - val_loss: 0.3347 - val_mae: 0.4092\n",
      "Epoch 37/50\n",
      "363/363 [==============================] - 2s 5ms/step - loss: 0.3433 - mae: 0.4158 - val_loss: 0.3643 - val_mae: 0.4134\n",
      "Epoch 38/50\n",
      "363/363 [==============================] - 2s 4ms/step - loss: 0.3430 - mae: 0.4160 - val_loss: 0.3469 - val_mae: 0.4114\n",
      "Epoch 39/50\n",
      "363/363 [==============================] - 2s 5ms/step - loss: 0.3429 - mae: 0.4159 - val_loss: 0.3598 - val_mae: 0.4110\n",
      "Epoch 40/50\n",
      "363/363 [==============================] - 2s 4ms/step - loss: 0.3424 - mae: 0.4157 - val_loss: 0.3589 - val_mae: 0.4089\n",
      "Epoch 41/50\n",
      "363/363 [==============================] - 2s 5ms/step - loss: 0.3421 - mae: 0.4150 - val_loss: 0.3734 - val_mae: 0.4117\n",
      "Epoch 42/50\n",
      "363/363 [==============================] - 2s 5ms/step - loss: 0.3418 - mae: 0.4151 - val_loss: 0.3790 - val_mae: 0.4117\n",
      "Epoch 43/50\n",
      "363/363 [==============================] - 2s 6ms/step - loss: 0.3411 - mae: 0.4143 - val_loss: 0.4017 - val_mae: 0.4136\n",
      "Epoch 44/50\n",
      "363/363 [==============================] - 2s 5ms/step - loss: 0.3411 - mae: 0.4140 - val_loss: 0.3869 - val_mae: 0.4153\n",
      "Epoch 45/50\n",
      "363/363 [==============================] - 2s 6ms/step - loss: 0.3408 - mae: 0.4149 - val_loss: 0.3570 - val_mae: 0.4087\n",
      "Epoch 46/50\n",
      "363/363 [==============================] - 2s 5ms/step - loss: 0.3402 - mae: 0.4132 - val_loss: 0.3822 - val_mae: 0.4118\n",
      "Epoch 47/50\n",
      "363/363 [==============================] - 2s 6ms/step - loss: 0.3404 - mae: 0.4139 - val_loss: 0.3526 - val_mae: 0.4088\n",
      "Epoch 48/50\n",
      "363/363 [==============================] - 2s 6ms/step - loss: 0.3398 - mae: 0.4134 - val_loss: 0.3964 - val_mae: 0.4128\n",
      "Epoch 49/50\n",
      "363/363 [==============================] - 2s 6ms/step - loss: 0.3396 - mae: 0.4134 - val_loss: 0.3488 - val_mae: 0.4099\n",
      "Epoch 50/50\n",
      "363/363 [==============================] - 2s 4ms/step - loss: 0.3393 - mae: 0.4132 - val_loss: 0.3342 - val_mae: 0.4062\n"
     ]
    }
   ],
   "source": [
    "model_history = model.fit(x_train, y_train, epochs=50, validation_data=(x_valid, y_valid))"
   ]
  },
  {
   "cell_type": "code",
   "execution_count": 92,
   "metadata": {},
   "outputs": [
    {
     "name": "stdout",
     "output_type": "stream",
     "text": [
      " 18/162 [==>...........................] - ETA: 0s - loss: 0.3125 - mae: 0.3938"
     ]
    },
    {
     "name": "stdout",
     "output_type": "stream",
     "text": [
      "162/162 [==============================] - 1s 4ms/step - loss: 0.3398 - mae: 0.4121\n"
     ]
    }
   ],
   "source": [
    "mae_test = model.evaluate(x_test, y_test)"
   ]
  },
  {
   "cell_type": "code",
   "execution_count": 93,
   "metadata": {},
   "outputs": [
    {
     "data": {
      "text/plain": [
       "{'loss': [0.36085623502731323,\n",
       "  0.36007651686668396,\n",
       "  0.35958582162857056,\n",
       "  0.3590329587459564,\n",
       "  0.35810449719429016,\n",
       "  0.357494056224823,\n",
       "  0.35680264234542847,\n",
       "  0.35637667775154114,\n",
       "  0.3556036353111267,\n",
       "  0.35498660802841187,\n",
       "  0.3548186719417572,\n",
       "  0.3538658618927002,\n",
       "  0.35404205322265625,\n",
       "  0.3530091345310211,\n",
       "  0.3523104786872864,\n",
       "  0.352076917886734,\n",
       "  0.35151195526123047,\n",
       "  0.351168692111969,\n",
       "  0.3502129018306732,\n",
       "  0.350093275308609,\n",
       "  0.3497583270072937,\n",
       "  0.3490089178085327,\n",
       "  0.3490450978279114,\n",
       "  0.3483249843120575,\n",
       "  0.3479177951812744,\n",
       "  0.3474009931087494,\n",
       "  0.3473019301891327,\n",
       "  0.34682518243789673,\n",
       "  0.3465800881385803,\n",
       "  0.34575530886650085,\n",
       "  0.3457725942134857,\n",
       "  0.34498366713523865,\n",
       "  0.3451001048088074,\n",
       "  0.344307005405426,\n",
       "  0.344095379114151,\n",
       "  0.3439285159111023,\n",
       "  0.3433476686477661,\n",
       "  0.34302881360054016,\n",
       "  0.34285011887550354,\n",
       "  0.3423556387424469,\n",
       "  0.34213072061538696,\n",
       "  0.3417592942714691,\n",
       "  0.34114140272140503,\n",
       "  0.34111881256103516,\n",
       "  0.3408184349536896,\n",
       "  0.34022757411003113,\n",
       "  0.3403669595718384,\n",
       "  0.3397774398326874,\n",
       "  0.33963221311569214,\n",
       "  0.33925679326057434],\n",
       " 'mae': [0.42900875210762024,\n",
       "  0.4282722473144531,\n",
       "  0.42833927273750305,\n",
       "  0.42758268117904663,\n",
       "  0.4271339774131775,\n",
       "  0.4268597960472107,\n",
       "  0.42582258582115173,\n",
       "  0.4260837137699127,\n",
       "  0.42542561888694763,\n",
       "  0.4250189960002899,\n",
       "  0.4242618680000305,\n",
       "  0.4240807592868805,\n",
       "  0.42385154962539673,\n",
       "  0.4232255220413208,\n",
       "  0.4228804409503937,\n",
       "  0.42279037833213806,\n",
       "  0.42242246866226196,\n",
       "  0.422092467546463,\n",
       "  0.4212598204612732,\n",
       "  0.4210258424282074,\n",
       "  0.4207635521888733,\n",
       "  0.42065224051475525,\n",
       "  0.4211096465587616,\n",
       "  0.41948240995407104,\n",
       "  0.4196145534515381,\n",
       "  0.41938912868499756,\n",
       "  0.4191035032272339,\n",
       "  0.41817158460617065,\n",
       "  0.4186704158782959,\n",
       "  0.4180774390697479,\n",
       "  0.41746366024017334,\n",
       "  0.4172736704349518,\n",
       "  0.4175932705402374,\n",
       "  0.41667798161506653,\n",
       "  0.4166393578052521,\n",
       "  0.41677379608154297,\n",
       "  0.4158351719379425,\n",
       "  0.4159514904022217,\n",
       "  0.41594526171684265,\n",
       "  0.41570621728897095,\n",
       "  0.4150472581386566,\n",
       "  0.4150961637496948,\n",
       "  0.4143122434616089,\n",
       "  0.414038747549057,\n",
       "  0.4149189591407776,\n",
       "  0.41322216391563416,\n",
       "  0.41394081711769104,\n",
       "  0.41338104009628296,\n",
       "  0.41344431042671204,\n",
       "  0.41318002343177795],\n",
       " 'val_loss': [0.3456847667694092,\n",
       "  0.3731381297111511,\n",
       "  0.35306063294410706,\n",
       "  0.34213680028915405,\n",
       "  0.3405317962169647,\n",
       "  0.3456701636314392,\n",
       "  0.34402090311050415,\n",
       "  0.33902186155319214,\n",
       "  0.35181549191474915,\n",
       "  0.3626056909561157,\n",
       "  0.3408341109752655,\n",
       "  0.42036300897598267,\n",
       "  0.34141722321510315,\n",
       "  0.3389480710029602,\n",
       "  0.37237727642059326,\n",
       "  0.3358044922351837,\n",
       "  0.38633832335472107,\n",
       "  0.359091579914093,\n",
       "  0.3670867383480072,\n",
       "  0.41307103633880615,\n",
       "  0.37735751271247864,\n",
       "  0.42650407552719116,\n",
       "  0.3325556218624115,\n",
       "  0.3916377127170563,\n",
       "  0.4057779014110565,\n",
       "  0.40080079436302185,\n",
       "  0.33136019110679626,\n",
       "  0.393694132566452,\n",
       "  0.3631034791469574,\n",
       "  0.4052051901817322,\n",
       "  0.357861191034317,\n",
       "  0.41403913497924805,\n",
       "  0.3538423776626587,\n",
       "  0.3466341197490692,\n",
       "  0.4010319113731384,\n",
       "  0.3347295820713043,\n",
       "  0.3642963171005249,\n",
       "  0.34688064455986023,\n",
       "  0.3598195016384125,\n",
       "  0.3588516116142273,\n",
       "  0.37343648076057434,\n",
       "  0.37904396653175354,\n",
       "  0.4016503393650055,\n",
       "  0.38693270087242126,\n",
       "  0.35696282982826233,\n",
       "  0.38220319151878357,\n",
       "  0.3526097238063812,\n",
       "  0.39635059237480164,\n",
       "  0.3487566113471985,\n",
       "  0.33422282338142395],\n",
       " 'val_mae': [0.41979020833969116,\n",
       "  0.4253219962120056,\n",
       "  0.42007407546043396,\n",
       "  0.4204135537147522,\n",
       "  0.41907957196235657,\n",
       "  0.41786202788352966,\n",
       "  0.41976872086524963,\n",
       "  0.41651761531829834,\n",
       "  0.41742661595344543,\n",
       "  0.41765692830085754,\n",
       "  0.4163892865180969,\n",
       "  0.4223702847957611,\n",
       "  0.41818591952323914,\n",
       "  0.41618916392326355,\n",
       "  0.41942644119262695,\n",
       "  0.41483983397483826,\n",
       "  0.4186881184577942,\n",
       "  0.41565972566604614,\n",
       "  0.41708874702453613,\n",
       "  0.4208259582519531,\n",
       "  0.419310063123703,\n",
       "  0.4227091073989868,\n",
       "  0.4093465805053711,\n",
       "  0.41676393151283264,\n",
       "  0.41758278012275696,\n",
       "  0.417326420545578,\n",
       "  0.40985429286956787,\n",
       "  0.41853079199790955,\n",
       "  0.4155171811580658,\n",
       "  0.4157273769378662,\n",
       "  0.41301533579826355,\n",
       "  0.41952770948410034,\n",
       "  0.41298410296440125,\n",
       "  0.4126666188240051,\n",
       "  0.41807639598846436,\n",
       "  0.4092366099357605,\n",
       "  0.4133983552455902,\n",
       "  0.4114060401916504,\n",
       "  0.41095250844955444,\n",
       "  0.4088919460773468,\n",
       "  0.41174736618995667,\n",
       "  0.41173887252807617,\n",
       "  0.4136176109313965,\n",
       "  0.41530483961105347,\n",
       "  0.40867680311203003,\n",
       "  0.41177210211753845,\n",
       "  0.4088461995124817,\n",
       "  0.41283294558525085,\n",
       "  0.4099409282207489,\n",
       "  0.40616363286972046]}"
      ]
     },
     "execution_count": 93,
     "metadata": {},
     "output_type": "execute_result"
    }
   ],
   "source": [
    "model_history.history"
   ]
  },
  {
   "cell_type": "code",
   "execution_count": 94,
   "metadata": {},
   "outputs": [
    {
     "data": {
      "image/png": "[encoded data removed]",
      "text/plain": [
       "<Figure size 700x700 with 1 Axes>"
      ]
     },
     "metadata": {},
     "output_type": "display_data"
    }
   ],
   "source": [
    "pd.DataFrame(model_history.history).plot(figsize=(7,7))\n",
    "plt.grid(True)\n",
    "plt.gca().set_ylim(0,1)\n",
    "plt.show()"
   ]
  },
  {
   "cell_type": "markdown",
   "metadata": {},
   "source": [
    "### SAVING AND RESTORING OF MODEL"
   ]
  },
  {
   "cell_type": "code",
   "execution_count": 95,
   "metadata": {},
   "outputs": [],
   "source": [
    "model.save(\"My_DL_Model.h5\")\n"
   ]
  },
  {
   "cell_type": "code",
   "execution_count": 96,
   "metadata": {},
   "outputs": [
    {
     "data": {
      "text/plain": [
       "'c:\\\\python\\\\Deep_Learning_Internshala'"
      ]
     },
     "execution_count": 96,
     "metadata": {},
     "output_type": "execute_result"
    }
   ],
   "source": [
    "%pwd"
   ]
  },
  {
   "cell_type": "code",
   "execution_count": 97,
   "metadata": {},
   "outputs": [],
   "source": [
    "# To change directory\n",
    "# %cd C:\\\\..path\n"
   ]
  },
  {
   "cell_type": "code",
   "execution_count": 98,
   "metadata": {},
   "outputs": [],
   "source": [
    "del model"
   ]
  },
  {
   "cell_type": "code",
   "execution_count": 99,
   "metadata": {},
   "outputs": [],
   "source": [
    "keras.backend.clear_session()"
   ]
  },
  {
   "cell_type": "code",
   "execution_count": 100,
   "metadata": {},
   "outputs": [],
   "source": [
    "model = keras.models.load_model(\"My_DL_Model.h5\")"
   ]
  },
  {
   "cell_type": "code",
   "execution_count": 101,
   "metadata": {},
   "outputs": [
    {
     "name": "stdout",
     "output_type": "stream",
     "text": [
      "Model: \"model\"\n",
      "__________________________________________________________________________________________________\n",
      "Layer (type)                    Output Shape         Param #     Connected to                     \n",
      "==================================================================================================\n",
      "input_7 (InputLayer)            [(None, 8)]          0                                            \n",
      "__________________________________________________________________________________________________\n",
      "dense_11 (Dense)                (None, 30)           270         input_7[0][0]                    \n",
      "__________________________________________________________________________________________________\n",
      "dense_12 (Dense)                (None, 30)           930         dense_11[0][0]                   \n",
      "__________________________________________________________________________________________________\n",
      "concatenate_3 (Concatenate)     (None, 38)           0           input_7[0][0]                    \n",
      "                                                                 dense_12[0][0]                   \n",
      "__________________________________________________________________________________________________\n",
      "dense_13 (Dense)                (None, 1)            39          concatenate_3[0][0]              \n",
      "==================================================================================================\n",
      "Total params: 1,239\n",
      "Trainable params: 1,239\n",
      "Non-trainable params: 0\n",
      "__________________________________________________________________________________________________\n"
     ]
    }
   ],
   "source": [
    "model.summary()"
   ]
  },
  {
   "cell_type": "code",
   "execution_count": 102,
   "metadata": {},
   "outputs": [
    {
     "name": "stdout",
     "output_type": "stream",
     "text": [
      "[[0.91612947]\n",
      " [1.8635883 ]\n",
      " [1.4460928 ]\n",
      " [1.7728707 ]\n",
      " [2.5458283 ]]\n"
     ]
    }
   ],
   "source": [
    "y_pred = model.predict(x_new)\n",
    "print(y_pred)"
   ]
  },
  {
   "cell_type": "markdown",
   "metadata": {},
   "source": [
    "### Using CALLBACKS DURING TRAINING \n",
    "- Callbacks are functions that can be applied at certain stages of the training process, such as at the end of each epoch.\n",
    "- The keras.callbacks module includes several built-in callbacks, and the API allows you to create your own custom callbacks."
   ]
  },
  {
   "cell_type": "code",
   "execution_count": 103,
   "metadata": {},
   "outputs": [],
   "source": [
    "del model\n",
    "keras.backend.clear_session()\n",
    "np.random.seed(42)\n",
    "tf.random.set_seed(42)"
   ]
  },
  {
   "cell_type": "code",
   "execution_count": 105,
   "metadata": {},
   "outputs": [],
   "source": [
    "model = keras.models.Sequential([\n",
    "    keras.layers.Dense(30, activation=\"relu\", input_shape=[8]),\n",
    "    keras.layers.Dense(30, activation=\"relu\"),\n",
    "    keras.layers.Dense(1)\n",
    "])"
   ]
  },
  {
   "cell_type": "code",
   "execution_count": 107,
   "metadata": {},
   "outputs": [],
   "source": [
    "model.compile(loss=\"mse\", optimizer=keras.optimizers.SGD(lr=1e-3))"
   ]
  },
  {
   "cell_type": "code",
   "execution_count": 108,
   "metadata": {},
   "outputs": [],
   "source": [
    "checkpoint_cb = keras.callbacks.ModelCheckpoint(\"Model-{epoch:02d}.h5\")"
   ]
  },
  {
   "cell_type": "code",
   "execution_count": 109,
   "metadata": {},
   "outputs": [
    {
     "name": "stdout",
     "output_type": "stream",
     "text": [
      "Epoch 1/20\n",
      "363/363 [==============================] - 3s 5ms/step - loss: 1.8866 - val_loss: 0.7126\n",
      "Epoch 2/20\n",
      "363/363 [==============================] - 2s 6ms/step - loss: 0.6577 - val_loss: 0.6880\n",
      "Epoch 3/20\n",
      "363/363 [==============================] - 2s 4ms/step - loss: 0.5934 - val_loss: 0.5803\n",
      "Epoch 4/20\n",
      "363/363 [==============================] - 2s 5ms/step - loss: 0.5557 - val_loss: 0.5166\n",
      "Epoch 5/20\n",
      "363/363 [==============================] - 2s 4ms/step - loss: 0.5272 - val_loss: 0.4895\n",
      "Epoch 6/20\n",
      "363/363 [==============================] - 2s 5ms/step - loss: 0.5033 - val_loss: 0.4951\n",
      "Epoch 7/20\n",
      "363/363 [==============================] - 2s 5ms/step - loss: 0.4854 - val_loss: 0.4861\n",
      "Epoch 8/20\n",
      "363/363 [==============================] - 2s 6ms/step - loss: 0.4709 - val_loss: 0.4554\n",
      "Epoch 9/20\n",
      "363/363 [==============================] - 2s 7ms/step - loss: 0.4578 - val_loss: 0.4413\n",
      "Epoch 10/20\n",
      "363/363 [==============================] - 2s 5ms/step - loss: 0.4474 - val_loss: 0.4379\n",
      "Epoch 11/20\n",
      "363/363 [==============================] - 2s 6ms/step - loss: 0.4393 - val_loss: 0.4396\n",
      "Epoch 12/20\n",
      "363/363 [==============================] - 2s 6ms/step - loss: 0.4318 - val_loss: 0.4507\n",
      "Epoch 13/20\n",
      "363/363 [==============================] - 2s 6ms/step - loss: 0.4261 - val_loss: 0.3997\n",
      "Epoch 14/20\n",
      "363/363 [==============================] - 2s 5ms/step - loss: 0.4202 - val_loss: 0.3956\n",
      "Epoch 15/20\n",
      "363/363 [==============================] - 2s 6ms/step - loss: 0.4155 - val_loss: 0.3916\n",
      "Epoch 16/20\n",
      "363/363 [==============================] - 2s 6ms/step - loss: 0.4112 - val_loss: 0.3937\n",
      "Epoch 17/20\n",
      "363/363 [==============================] - 2s 5ms/step - loss: 0.4077 - val_loss: 0.3809\n",
      "Epoch 18/20\n",
      "363/363 [==============================] - 2s 6ms/step - loss: 0.4040 - val_loss: 0.3793\n",
      "Epoch 19/20\n",
      "363/363 [==============================] - 2s 6ms/step - loss: 0.4004 - val_loss: 0.3850\n",
      "Epoch 20/20\n",
      "363/363 [==============================] - 2s 5ms/step - loss: 0.3980 - val_loss: 0.3809\n"
     ]
    }
   ],
   "source": [
    "history = model.fit(x_train, y_train, epochs=20, validation_data=(x_valid, y_valid), \n",
    "                    callbacks=[checkpoint_cb])"
   ]
  },
  {
   "cell_type": "code",
   "execution_count": 110,
   "metadata": {},
   "outputs": [],
   "source": [
    "del model\n",
    "keras.backend.clear_session()"
   ]
  },
  {
   "cell_type": "code",
   "execution_count": 111,
   "metadata": {},
   "outputs": [],
   "source": [
    "model = keras.models.load_model(\"Model-10.h5\")"
   ]
  },
  {
   "cell_type": "code",
   "execution_count": 112,
   "metadata": {},
   "outputs": [
    {
     "name": "stdout",
     "output_type": "stream",
     "text": [
      "162/162 [==============================] - 1s 4ms/step - loss: 0.4382\n"
     ]
    }
   ],
   "source": [
    "mse_test = model.evaluate(x_test, y_test)"
   ]
  },
  {
   "cell_type": "markdown",
   "metadata": {},
   "source": [
    "### BEST MODEL ONLY"
   ]
  },
  {
   "cell_type": "code",
   "execution_count": 113,
   "metadata": {},
   "outputs": [],
   "source": [
    "del model\n",
    "keras.backend.clear_session()\n"
   ]
  },
  {
   "cell_type": "code",
   "execution_count": 114,
   "metadata": {},
   "outputs": [],
   "source": [
    "model = keras.models.Sequential([\n",
    "    keras.layers.Dense(30, activation=\"relu\", input_shape=[8]),\n",
    "    keras.layers.Dense(30, activation=\"relu\"),\n",
    "    keras.layers.Dense(1)\n",
    "])"
   ]
  },
  {
   "cell_type": "code",
   "execution_count": 115,
   "metadata": {},
   "outputs": [
    {
     "name": "stderr",
     "output_type": "stream",
     "text": [
      "c:\\Users\\Sahib Preet Singh\\AppData\\Local\\Programs\\Python\\Python39\\lib\\site-packages\\keras\\optimizer_v2\\optimizer_v2.py:355: UserWarning: The `lr` argument is deprecated, use `learning_rate` instead.\n",
      "  warnings.warn(\n"
     ]
    }
   ],
   "source": [
    "model.compile(loss=\"mse\", optimizer=keras.optimizers.SGD(lr=1e-3))"
   ]
  },
  {
   "cell_type": "code",
   "execution_count": 116,
   "metadata": {},
   "outputs": [],
   "source": [
    "checkpoint_cb = keras.callbacks.ModelCheckpoint(\"Best_Model.h5\", save_best_only=True)"
   ]
  },
  {
   "cell_type": "code",
   "execution_count": 117,
   "metadata": {},
   "outputs": [
    {
     "name": "stdout",
     "output_type": "stream",
     "text": [
      "Epoch 1/20\n",
      "363/363 [==============================] - 3s 6ms/step - loss: 1.4581 - val_loss: 0.7883\n",
      "Epoch 2/20\n",
      "363/363 [==============================] - 2s 6ms/step - loss: 0.7368 - val_loss: 0.7306\n",
      "Epoch 3/20\n",
      "363/363 [==============================] - 2s 6ms/step - loss: 0.6516 - val_loss: 0.6501\n",
      "Epoch 4/20\n",
      "363/363 [==============================] - 1s 4ms/step - loss: 0.5951 - val_loss: 0.5551\n",
      "Epoch 5/20\n",
      "363/363 [==============================] - 2s 5ms/step - loss: 0.5536 - val_loss: 0.5025\n",
      "Epoch 6/20\n",
      "363/363 [==============================] - 2s 5ms/step - loss: 0.5199 - val_loss: 0.4728\n",
      "Epoch 7/20\n",
      "363/363 [==============================] - 2s 5ms/step - loss: 0.4940 - val_loss: 0.4497\n",
      "Epoch 8/20\n",
      "363/363 [==============================] - 2s 6ms/step - loss: 0.4730 - val_loss: 0.4359\n",
      "Epoch 9/20\n",
      "363/363 [==============================] - 2s 6ms/step - loss: 0.4563 - val_loss: 0.4267\n",
      "Epoch 10/20\n",
      "363/363 [==============================] - 2s 5ms/step - loss: 0.4431 - val_loss: 0.4224\n",
      "Epoch 11/20\n",
      "363/363 [==============================] - 2s 6ms/step - loss: 0.4333 - val_loss: 0.4265\n",
      "Epoch 12/20\n",
      "363/363 [==============================] - 2s 5ms/step - loss: 0.4250 - val_loss: 0.4293\n",
      "Epoch 13/20\n",
      "363/363 [==============================] - 2s 5ms/step - loss: 0.4183 - val_loss: 0.4381\n",
      "Epoch 14/20\n",
      "363/363 [==============================] - 1s 4ms/step - loss: 0.4128 - val_loss: 0.4350\n",
      "Epoch 15/20\n",
      "363/363 [==============================] - 2s 6ms/step - loss: 0.4081 - val_loss: 0.4364\n",
      "Epoch 16/20\n",
      "363/363 [==============================] - 1s 4ms/step - loss: 0.4041 - val_loss: 0.4418\n",
      "Epoch 17/20\n",
      "363/363 [==============================] - 1s 4ms/step - loss: 0.4005 - val_loss: 0.4612\n",
      "Epoch 18/20\n",
      "363/363 [==============================] - 2s 4ms/step - loss: 0.3975 - val_loss: 0.4650\n",
      "Epoch 19/20\n",
      "363/363 [==============================] - 1s 4ms/step - loss: 0.3941 - val_loss: 0.4492\n",
      "Epoch 20/20\n",
      "363/363 [==============================] - 2s 5ms/step - loss: 0.3920 - val_loss: 0.4909\n"
     ]
    }
   ],
   "source": [
    "history = model.fit(x_train, y_train, epochs=20, validation_data=(x_valid, y_valid), \n",
    "                    callbacks=[checkpoint_cb])"
   ]
  },
  {
   "cell_type": "code",
   "execution_count": 118,
   "metadata": {},
   "outputs": [],
   "source": [
    "model = keras.models.load_model(\"Best_Model.h5\")"
   ]
  },
  {
   "cell_type": "code",
   "execution_count": 119,
   "metadata": {},
   "outputs": [
    {
     "name": "stdout",
     "output_type": "stream",
     "text": [
      "162/162 [==============================] - 1s 4ms/step - loss: 0.4366\n"
     ]
    }
   ],
   "source": [
    "mse_test = model.evaluate(x_test, y_test)"
   ]
  },
  {
   "cell_type": "markdown",
   "metadata": {},
   "source": [
    "#### Early Stopping Checkpoint"
   ]
  },
  {
   "cell_type": "code",
   "execution_count": 120,
   "metadata": {},
   "outputs": [],
   "source": [
    "del model\n",
    "keras.backend.clear_session()\n"
   ]
  },
  {
   "cell_type": "code",
   "execution_count": 121,
   "metadata": {},
   "outputs": [],
   "source": [
    "model = keras.models.Sequential([\n",
    "    keras.layers.Dense(30, activation=\"relu\", input_shape=[8]),\n",
    "    keras.layers.Dense(30, activation=\"relu\"),\n",
    "    keras.layers.Dense(1)\n",
    "])"
   ]
  },
  {
   "cell_type": "code",
   "execution_count": 122,
   "metadata": {},
   "outputs": [
    {
     "name": "stderr",
     "output_type": "stream",
     "text": [
      "c:\\Users\\Sahib Preet Singh\\AppData\\Local\\Programs\\Python\\Python39\\lib\\site-packages\\keras\\optimizer_v2\\optimizer_v2.py:355: UserWarning: The `lr` argument is deprecated, use `learning_rate` instead.\n",
      "  warnings.warn(\n"
     ]
    }
   ],
   "source": [
    "model.compile(loss=\"mse\", optimizer=keras.optimizers.SGD(lr=1e-3))"
   ]
  },
  {
   "cell_type": "code",
   "execution_count": 123,
   "metadata": {},
   "outputs": [],
   "source": [
    "checkpoint_cb = keras.callbacks.ModelCheckpoint(\"EarlyStop_Model.h5\", save_best_only=True)"
   ]
  },
  {
   "cell_type": "markdown",
   "metadata": {},
   "source": [
    "patience refers to no. of epochs with no improvement after which training will be stopped"
   ]
  },
  {
   "cell_type": "code",
   "execution_count": 124,
   "metadata": {},
   "outputs": [],
   "source": [
    "early_stopping_cb = keras.callbacks.EarlyStopping(patience=10, restore_best_weights=True)"
   ]
  },
  {
   "cell_type": "code",
   "execution_count": 126,
   "metadata": {},
   "outputs": [
    {
     "name": "stdout",
     "output_type": "stream",
     "text": [
      "Epoch 1/200\n",
      " 32/363 [=>............................] - ETA: 1s - loss: 1.7154"
     ]
    },
    {
     "name": "stdout",
     "output_type": "stream",
     "text": [
      "363/363 [==============================] - 5s 15ms/step - loss: 1.2511 - val_loss: 0.9276\n",
      "Epoch 2/200\n",
      "363/363 [==============================] - 2s 6ms/step - loss: 0.8812 - val_loss: 0.9845\n",
      "Epoch 3/200\n",
      "363/363 [==============================] - 2s 4ms/step - loss: 0.7858 - val_loss: 0.8563\n",
      "Epoch 4/200\n",
      "363/363 [==============================] - 1s 4ms/step - loss: 0.7331 - val_loss: 0.7049\n",
      "Epoch 5/200\n",
      "363/363 [==============================] - 2s 4ms/step - loss: 0.6926 - val_loss: 0.6415\n",
      "Epoch 6/200\n",
      "363/363 [==============================] - 2s 6ms/step - loss: 0.6566 - val_loss: 0.6274\n",
      "Epoch 7/200\n",
      "363/363 [==============================] - 2s 5ms/step - loss: 0.6260 - val_loss: 0.6162\n",
      "Epoch 8/200\n",
      "363/363 [==============================] - 3s 8ms/step - loss: 0.5987 - val_loss: 0.5528\n",
      "Epoch 9/200\n",
      "363/363 [==============================] - 3s 8ms/step - loss: 0.5725 - val_loss: 0.5358\n",
      "Epoch 10/200\n",
      "363/363 [==============================] - 4s 10ms/step - loss: 0.5491 - val_loss: 0.5360\n",
      "Epoch 11/200\n",
      "363/363 [==============================] - 3s 9ms/step - loss: 0.5287 - val_loss: 0.5094\n",
      "Epoch 12/200\n",
      "363/363 [==============================] - 3s 9ms/step - loss: 0.5086 - val_loss: 0.4902\n",
      "Epoch 13/200\n",
      "363/363 [==============================] - 2s 7ms/step - loss: 0.4922 - val_loss: 0.4547\n",
      "Epoch 14/200\n",
      "363/363 [==============================] - 4s 10ms/step - loss: 0.4767 - val_loss: 0.4408\n",
      "Epoch 15/200\n",
      "363/363 [==============================] - 5s 13ms/step - loss: 0.4635 - val_loss: 0.4328\n",
      "Epoch 16/200\n",
      "363/363 [==============================] - 2s 6ms/step - loss: 0.4521 - val_loss: 0.4186\n",
      "Epoch 17/200\n",
      "363/363 [==============================] - 3s 7ms/step - loss: 0.4427 - val_loss: 0.4217\n",
      "Epoch 18/200\n",
      "363/363 [==============================] - 2s 6ms/step - loss: 0.4342 - val_loss: 0.4299\n",
      "Epoch 19/200\n",
      "363/363 [==============================] - 2s 5ms/step - loss: 0.4269 - val_loss: 0.3966\n",
      "Epoch 20/200\n",
      "363/363 [==============================] - 3s 7ms/step - loss: 0.4212 - val_loss: 0.4208\n",
      "Epoch 21/200\n",
      "363/363 [==============================] - 3s 8ms/step - loss: 0.4156 - val_loss: 0.3909\n",
      "Epoch 22/200\n",
      "363/363 [==============================] - 3s 8ms/step - loss: 0.4109 - val_loss: 0.4263\n",
      "Epoch 23/200\n",
      "363/363 [==============================] - 3s 8ms/step - loss: 0.4066 - val_loss: 0.3800\n",
      "Epoch 24/200\n",
      "363/363 [==============================] - 2s 6ms/step - loss: 0.4026 - val_loss: 0.4127\n",
      "Epoch 25/200\n",
      "363/363 [==============================] - 3s 7ms/step - loss: 0.3990 - val_loss: 0.4062\n",
      "Epoch 26/200\n",
      "363/363 [==============================] - 3s 7ms/step - loss: 0.3959 - val_loss: 0.4041\n",
      "Epoch 27/200\n",
      "363/363 [==============================] - 3s 7ms/step - loss: 0.3931 - val_loss: 0.3669\n",
      "Epoch 28/200\n",
      "363/363 [==============================] - 2s 6ms/step - loss: 0.3902 - val_loss: 0.4156\n",
      "Epoch 29/200\n",
      "363/363 [==============================] - 3s 7ms/step - loss: 0.3878 - val_loss: 0.3701\n",
      "Epoch 30/200\n",
      "363/363 [==============================] - 2s 6ms/step - loss: 0.3851 - val_loss: 0.4054\n",
      "Epoch 31/200\n",
      "363/363 [==============================] - 1s 4ms/step - loss: 0.3828 - val_loss: 0.3681\n",
      "Epoch 32/200\n",
      "363/363 [==============================] - 2s 4ms/step - loss: 0.3805 - val_loss: 0.4163\n",
      "Epoch 33/200\n",
      "363/363 [==============================] - 1s 4ms/step - loss: 0.3792 - val_loss: 0.3550\n",
      "Epoch 34/200\n",
      "363/363 [==============================] - 2s 5ms/step - loss: 0.3769 - val_loss: 0.3585\n",
      "Epoch 35/200\n",
      "363/363 [==============================] - 2s 4ms/step - loss: 0.3750 - val_loss: 0.4064\n",
      "Epoch 36/200\n",
      "363/363 [==============================] - 2s 4ms/step - loss: 0.3734 - val_loss: 0.3609\n",
      "Epoch 37/200\n",
      "363/363 [==============================] - 1s 4ms/step - loss: 0.3717 - val_loss: 0.4002\n",
      "Epoch 38/200\n",
      "363/363 [==============================] - 1s 4ms/step - loss: 0.3704 - val_loss: 0.3482\n",
      "Epoch 39/200\n",
      "363/363 [==============================] - 2s 4ms/step - loss: 0.3685 - val_loss: 0.3591\n",
      "Epoch 40/200\n",
      "363/363 [==============================] - 1s 4ms/step - loss: 0.3669 - val_loss: 0.3539\n",
      "Epoch 41/200\n",
      "363/363 [==============================] - 2s 4ms/step - loss: 0.3657 - val_loss: 0.3718\n",
      "Epoch 42/200\n",
      "363/363 [==============================] - 1s 4ms/step - loss: 0.3646 - val_loss: 0.3707\n",
      "Epoch 43/200\n",
      "363/363 [==============================] - 2s 5ms/step - loss: 0.3630 - val_loss: 0.3702\n",
      "Epoch 44/200\n",
      "363/363 [==============================] - 1s 4ms/step - loss: 0.3618 - val_loss: 0.3831\n",
      "Epoch 45/200\n",
      "363/363 [==============================] - 1s 4ms/step - loss: 0.3611 - val_loss: 0.3414\n",
      "Epoch 46/200\n",
      "363/363 [==============================] - 2s 5ms/step - loss: 0.3596 - val_loss: 0.3612\n",
      "Epoch 47/200\n",
      "363/363 [==============================] - 1s 4ms/step - loss: 0.3585 - val_loss: 0.3633\n",
      "Epoch 48/200\n",
      "363/363 [==============================] - 1s 4ms/step - loss: 0.3577 - val_loss: 0.3638\n",
      "Epoch 49/200\n",
      "363/363 [==============================] - 1s 4ms/step - loss: 0.3569 - val_loss: 0.3397\n",
      "Epoch 50/200\n",
      "363/363 [==============================] - 1s 4ms/step - loss: 0.3557 - val_loss: 0.3391\n",
      "Epoch 51/200\n",
      "363/363 [==============================] - 2s 4ms/step - loss: 0.3547 - val_loss: 0.3588\n",
      "Epoch 52/200\n",
      "363/363 [==============================] - 1s 4ms/step - loss: 0.3541 - val_loss: 0.3448\n",
      "Epoch 53/200\n",
      "363/363 [==============================] - 2s 4ms/step - loss: 0.3532 - val_loss: 0.3981\n",
      "Epoch 54/200\n",
      "363/363 [==============================] - 1s 3ms/step - loss: 0.3526 - val_loss: 0.3347\n",
      "Epoch 55/200\n",
      "363/363 [==============================] - 1s 4ms/step - loss: 0.3516 - val_loss: 0.3471\n",
      "Epoch 56/200\n",
      "363/363 [==============================] - 1s 4ms/step - loss: 0.3507 - val_loss: 0.3492\n",
      "Epoch 57/200\n",
      "363/363 [==============================] - 1s 3ms/step - loss: 0.3499 - val_loss: 0.3395\n",
      "Epoch 58/200\n",
      "363/363 [==============================] - 2s 4ms/step - loss: 0.3489 - val_loss: 0.3732\n",
      "Epoch 59/200\n",
      "363/363 [==============================] - 1s 4ms/step - loss: 0.3485 - val_loss: 0.3645\n",
      "Epoch 60/200\n",
      "363/363 [==============================] - 2s 4ms/step - loss: 0.3477 - val_loss: 0.3418\n",
      "Epoch 61/200\n",
      "363/363 [==============================] - 1s 4ms/step - loss: 0.3465 - val_loss: 0.3655\n",
      "Epoch 62/200\n",
      "363/363 [==============================] - 1s 4ms/step - loss: 0.3461 - val_loss: 0.3654\n",
      "Epoch 63/200\n",
      "363/363 [==============================] - 1s 4ms/step - loss: 0.3450 - val_loss: 0.3583\n",
      "Epoch 64/200\n",
      "363/363 [==============================] - 1s 4ms/step - loss: 0.3448 - val_loss: 0.3400\n"
     ]
    }
   ],
   "source": [
    "history = model.fit(x_train, y_train, epochs=200, validation_data=(x_valid, y_valid), \n",
    "                    callbacks=[checkpoint_cb, early_stopping_cb])"
   ]
  },
  {
   "cell_type": "code",
   "execution_count": 128,
   "metadata": {},
   "outputs": [
    {
     "name": "stdout",
     "output_type": "stream",
     "text": [
      "162/162 [==============================] - 1s 4ms/step - loss: 0.3478\n"
     ]
    }
   ],
   "source": [
    "model = keras.models.load_model(\"EarlyStop_Model.h5\")\n",
    "mse_test = model.evaluate(x_test, y_test)"
   ]
  },
  {
   "cell_type": "code",
   "execution_count": 129,
   "metadata": {},
   "outputs": [
    {
     "data": {
      "image/png": "[encoded data removed]",
      "text/plain": [
       "<Figure size 700x700 with 1 Axes>"
      ]
     },
     "metadata": {},
     "output_type": "display_data"
    }
   ],
   "source": [
    "pd.DataFrame(model_history.history).plot(figsize=(7,7))\n",
    "plt.grid(True)\n",
    "plt.gca().set_ylim(0,1)\n",
    "plt.show()"
   ]
  },
  {
   "cell_type": "markdown",
   "metadata": {},
   "source": [
    "### Hyperparameters\n",
    "\n",
    "Preferable Considerations\n",
    "--------------------------\n",
    "*   **learning_rate** = 0.001\n",
    "*   **batch_size** = 32\n",
    "*   **num_epochs** = 10\n",
    "\n",
    "set a large value for epochs and use early stopping callback is one advise"
   ]
  }
 ],
 "metadata": {
  "kernelspec": {
   "display_name": "Python 3",
   "language": "python",
   "name": "python3"
  },
  "language_info": {
   "codemirror_mode": {
    "name": "ipython",
    "version": 3
   },
   "file_extension": ".py",
   "mimetype": "text/x-python",
   "name": "python",
   "nbconvert_exporter": "python",
   "pygments_lexer": "ipython3",
   "version": "3.9.0"
  },
  "orig_nbformat": 4
 },
 "nbformat": 4,
 "nbformat_minor": 2
}
