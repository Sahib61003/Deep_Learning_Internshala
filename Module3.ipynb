{
 "cells": [
  {
   "cell_type": "markdown",
   "metadata": {},
   "source": [
    "# 1. Introduction - CNN Basics\n",
    "\n",
    "Introduction of Module 3 -  **Convolutional Neural Networks**"
   ]
  },
  {
   "cell_type": "markdown",
   "metadata": {},
   "source": [
    "* Fact - On focused training accuracy of CNN in image detection is better than humans sometimes.\n",
    "* Human recognizes patterns in group of points\n",
    "* CNN recognizes patterns in group of pixels\n",
    "* CNN is a type of neural network, better than ANN for pattern recognition.\n",
    "* In CNN we have convolutional layers.\n",
    "* Convolutional layers are made up of filters.\n",
    "* Filters are matrices of weights.\n",
    "* Filters are used to extract features from images.\n",
    "\n",
    "### Stride\n",
    "* Shifting of window of pixels in lamen language.\n",
    "* Stride is the number of pixels we move each time we slide the filter matrix over the image.\n",
    "* Stride is a hyperparameter.\n",
    "* Stride is used to reduce the size of the output.\n",
    "* Stride is used to reduce the computational complexity.\n",
    "* Stride is used to determine \n",
    "    * How many times we apply the filter to the image.\n",
    "    * How many times we slide the filter over the image.\n",
    "\n",
    "\n",
    "### Padding\n",
    "* Padding is used to preserve the size of the image.\n",
    "* Padding is used to preserve the information at the edges of the image.\n",
    "* Padding is used to prevent the loss of information at the edges of the image.\n",
    "* Cutting edges comes under Valid padding.\n",
    "* Adding zeros comes under Same padding.\n",
    "\n",
    "` Stride denotes how many steps we are moving in each steps in convolution, by default it is one and padding is a process of adding zeros to input matrix symmetrically to maintain the dimension of output as in input. `"
   ]
  },
  {
   "cell_type": "markdown",
   "metadata": {},
   "source": [
    "### Filters \n",
    "- Filter is a matrix of dimension of same as window size.\n",
    "- Filter is used to extract features from an image.\n",
    "- Filter is also called as kernel.\n",
    "- Our network learns few values.\n",
    "\n",
    "### Feature Maps\n",
    "- Feature map is the output of a filter.\n",
    "- Feature map is also called as activation map.\n",
    "- Each feature map has some feature highlights.\n",
    "- Each position results in an activation of neuron andoutput is collected in feature map.\n",
    "\n",
    "### Channels\n",
    "- Image can be grayscaled or coloured and ranges between 0 to 255 or 000000 to FFFFFF.\n",
    "- Grayscale image has only one channel.\n",
    "- Coloured image has three channels.\n",
    "- Each pixel of any colored image  have its own RGB value that is responsible for that color of pixel.\n",
    "- Each channel is responsible for one color.\n",
    "- Channel is a collection of feature maps.\n",
    "- Channel is also called as depth.\n",
    "\n",
    "\n",
    "### Pooling Layers\n",
    "- It reduces number of parameters by reducing spatial dimensions, thus increasing efficiency while training.\n",
    "- Pooling layer is used to reduce the size of the feature map.\n",
    "- Pooling layer is also called as downsampling layer.\n",
    "- Pooling layer is used to extract dominant features.\n",
    "\n",
    "    - Max Pooling : The max pixel value of batch is selected. \n",
    "    - Average Pooling : The average pixel value of batch is selected.\n",
    "    \n"
   ]
  },
  {
   "cell_type": "markdown",
   "metadata": {},
   "source": [
    "# Creating CNN Model in Python.\n"
   ]
  },
  {
   "cell_type": "code",
   "execution_count": 1,
   "metadata": {},
   "outputs": [],
   "source": [
    "\n",
    "import tensorflow as tf\n",
    "import numpy as np\n",
    "import matplotlib.pyplot as plt\n",
    "from tensorflow import keras"
   ]
  },
  {
   "cell_type": "code",
   "execution_count": 2,
   "metadata": {},
   "outputs": [],
   "source": [
    "fm = keras.datasets.fashion_mnist\n",
    "(x_train, y_train), (x_test, y_test) = fm.load_data()"
   ]
  },
  {
   "cell_type": "markdown",
   "metadata": {},
   "source": [
    "**Label | Description**\n",
    "\n",
    "0       | T-shirt/Top\n",
    "\n",
    "1       | Trouser\n",
    "\n",
    "2       | Pullover\n",
    "\n",
    "3       | Dress\n",
    "\n",
    "4       | Coat\n",
    "\n",
    "5       | Sandal\n",
    "\n",
    "6       | Shirt\n",
    "\n",
    "7       | Sneaker\n",
    "\n",
    "8       | Bag\n",
    "\n",
    "9       | Ankle boot"
   ]
  },
  {
   "cell_type": "code",
   "execution_count": 3,
   "metadata": {},
   "outputs": [],
   "source": [
    "class_names = [\"Tshirt/Top\", \"Trouser\",\n",
    "               \"Pullover\", \"Dress\", \"Coat\",\n",
    "               \"Sandal\", \"Shirt\", \"Sneaker\",\n",
    "               \"Bag\", \"Ankle boot\"]"
   ]
  },
  {
   "cell_type": "markdown",
   "metadata": {},
   "source": [
    "### Data Reshaping\n",
    "\n",
    "changing data into 3D "
   ]
  },
  {
   "cell_type": "code",
   "execution_count": 4,
   "metadata": {},
   "outputs": [],
   "source": [
    "x_train = x_train.reshape((60000,28,28,1))\n",
    "x_test = x_test.reshape((10000,28,28,1))"
   ]
  },
  {
   "cell_type": "markdown",
   "metadata": {},
   "source": [
    "### data normalization"
   ]
  },
  {
   "cell_type": "code",
   "execution_count": 5,
   "metadata": {},
   "outputs": [],
   "source": [
    "x_train_n = x_train / 255.\n",
    "x_test_n = x_test / 255."
   ]
  },
  {
   "cell_type": "markdown",
   "metadata": {},
   "source": [
    "Splitting data into Train-Test Split\n",
    "- Training Dataset is defined as data used for training the model\n",
    "- Testing Dataset is defined as data used for testing the model\n",
    "\n",
    "- Validation Data is used for tuning the hyperparameters  and evaluate the models.\n"
   ]
  },
  {
   "cell_type": "code",
   "execution_count": 6,
   "metadata": {},
   "outputs": [
    {
     "name": "stdout",
     "output_type": "stream",
     "text": [
      "(5000, 28, 28, 1)\n",
      "(55000, 28, 28, 1)\n",
      "(5000,)\n",
      "(55000,)\n",
      "(10000, 28, 28, 1)\n"
     ]
    }
   ],
   "source": [
    "x_valid, x_train = x_train_n[:5000], x_train_n[5000:]\n",
    "y_valid, y_train = y_train[:5000], y_train[5000:]\n",
    "x_test = x_test_n\n",
    "\n",
    "print(x_valid.shape)\n",
    "print(x_train.shape)\n",
    "print(y_valid.shape)\n",
    "print(y_train.shape)\n",
    "print(x_test.shape)"
   ]
  },
  {
   "cell_type": "markdown",
   "metadata": {},
   "source": [
    "Creating model architecture"
   ]
  },
  {
   "cell_type": "code",
   "execution_count": 9,
   "metadata": {},
   "outputs": [],
   "source": [
    "np.random.seed(42)\n",
    "tf.random.set_seed(42)"
   ]
  },
  {
   "cell_type": "markdown",
   "metadata": {},
   "source": [
    "![architecture](archimg.jpg)\n"
   ]
  },
  {
   "cell_type": "code",
   "execution_count": null,
   "metadata": {},
   "outputs": [],
   "source": []
  },
  {
   "cell_type": "code",
   "execution_count": 14,
   "metadata": {},
   "outputs": [],
   "source": [
    "model = keras.models.Sequential()\n",
    "model.add(keras.layers.Conv2D(filters = 32, kernel_size = (3,3), strides=1, padding='valid', activation='relu', input_shape=(28,28,1)))\n",
    "model.add(keras.layers.MaxPooling2D(pool_size=(2,2)))\n",
    "model.add(keras.layers.Flatten())\n",
    "model.add(keras.layers.Dense(300, activation='relu'))\n",
    "model.add(keras.layers.Dense(100, activation='relu'))        \n",
    "model.add(keras.layers.Dense(10, activation=\"softmax\"))\n",
    "          "
   ]
  },
  {
   "cell_type": "code",
   "execution_count": 15,
   "metadata": {},
   "outputs": [
    {
     "name": "stdout",
     "output_type": "stream",
     "text": [
      "Model: \"sequential_3\"\n",
      "_________________________________________________________________\n",
      "Layer (type)                 Output Shape              Param #   \n",
      "=================================================================\n",
      "conv2d_1 (Conv2D)            (None, 26, 26, 32)        320       \n",
      "_________________________________________________________________\n",
      "max_pooling2d (MaxPooling2D) (None, 13, 13, 32)        0         \n",
      "_________________________________________________________________\n",
      "flatten (Flatten)            (None, 5408)              0         \n",
      "_________________________________________________________________\n",
      "dense (Dense)                (None, 300)               1622700   \n",
      "_________________________________________________________________\n",
      "dense_1 (Dense)              (None, 100)               30100     \n",
      "_________________________________________________________________\n",
      "dense_2 (Dense)              (None, 10)                1010      \n",
      "=================================================================\n",
      "Total params: 1,654,130\n",
      "Trainable params: 1,654,130\n",
      "Non-trainable params: 0\n",
      "_________________________________________________________________\n"
     ]
    }
   ],
   "source": [
    "model.summary()"
   ]
  },
  {
   "cell_type": "code",
   "execution_count": 16,
   "metadata": {},
   "outputs": [],
   "source": [
    "model.compile(loss=\"sparse_categorical_crossentropy\",\n",
    "              optimizer=\"sgd\",\n",
    "              metrics=[\"accuracy\"])\n"
   ]
  },
  {
   "cell_type": "code",
   "execution_count": 23,
   "metadata": {},
   "outputs": [
    {
     "name": "stdout",
     "output_type": "stream",
     "text": [
      "Epoch 1/30\n",
      "860/860 [==============================] - 61s 70ms/step - loss: 0.3262 - accuracy: 0.8824 - val_loss: 0.3644 - val_accuracy: 0.8678\n",
      "Epoch 2/30\n",
      "860/860 [==============================] - 66s 76ms/step - loss: 0.3153 - accuracy: 0.8858 - val_loss: 0.3329 - val_accuracy: 0.8844\n",
      "Epoch 3/30\n",
      "860/860 [==============================] - 67s 78ms/step - loss: 0.3066 - accuracy: 0.8874 - val_loss: 0.5596 - val_accuracy: 0.8002\n",
      "Epoch 4/30\n",
      "860/860 [==============================] - 67s 78ms/step - loss: 0.2981 - accuracy: 0.8924 - val_loss: 0.3189 - val_accuracy: 0.8876\n",
      "Epoch 5/30\n",
      "860/860 [==============================] - 59s 68ms/step - loss: 0.2919 - accuracy: 0.8931 - val_loss: 0.3104 - val_accuracy: 0.8894\n",
      "Epoch 6/30\n",
      "860/860 [==============================] - 60s 70ms/step - loss: 0.2828 - accuracy: 0.8963 - val_loss: 0.2981 - val_accuracy: 0.8980\n",
      "Epoch 7/30\n",
      "860/860 [==============================] - 60s 70ms/step - loss: 0.2762 - accuracy: 0.9010 - val_loss: 0.3236 - val_accuracy: 0.8906\n",
      "Epoch 8/30\n",
      "860/860 [==============================] - 62s 72ms/step - loss: 0.2702 - accuracy: 0.9016 - val_loss: 0.3732 - val_accuracy: 0.8612\n",
      "Epoch 9/30\n",
      "860/860 [==============================] - 65s 76ms/step - loss: 0.2646 - accuracy: 0.9029 - val_loss: 0.3001 - val_accuracy: 0.8906\n",
      "Epoch 10/30\n",
      "860/860 [==============================] - 65s 75ms/step - loss: 0.2582 - accuracy: 0.9053 - val_loss: 0.3099 - val_accuracy: 0.8904\n",
      "Epoch 11/30\n",
      "860/860 [==============================] - 63s 74ms/step - loss: 0.2525 - accuracy: 0.9075 - val_loss: 0.2980 - val_accuracy: 0.8920\n",
      "Epoch 12/30\n",
      "860/860 [==============================] - 61s 71ms/step - loss: 0.2465 - accuracy: 0.9097 - val_loss: 0.2812 - val_accuracy: 0.8986\n",
      "Epoch 13/30\n",
      "860/860 [==============================] - 60s 70ms/step - loss: 0.2433 - accuracy: 0.9112 - val_loss: 0.2990 - val_accuracy: 0.8920\n",
      "Epoch 14/30\n",
      "860/860 [==============================] - 61s 71ms/step - loss: 0.2382 - accuracy: 0.9125 - val_loss: 0.3456 - val_accuracy: 0.8710\n",
      "Epoch 15/30\n",
      "860/860 [==============================] - 61s 70ms/step - loss: 0.2327 - accuracy: 0.9153 - val_loss: 0.3210 - val_accuracy: 0.8860\n",
      "Epoch 16/30\n",
      "860/860 [==============================] - 62s 72ms/step - loss: 0.2288 - accuracy: 0.9166 - val_loss: 0.2689 - val_accuracy: 0.9024\n",
      "Epoch 17/30\n",
      "860/860 [==============================] - 62s 72ms/step - loss: 0.2235 - accuracy: 0.9183 - val_loss: 0.3558 - val_accuracy: 0.8752\n",
      "Epoch 18/30\n",
      "860/860 [==============================] - 63s 73ms/step - loss: 0.2205 - accuracy: 0.9191 - val_loss: 0.3354 - val_accuracy: 0.8824\n",
      "Epoch 19/30\n",
      "860/860 [==============================] - 61s 71ms/step - loss: 0.2159 - accuracy: 0.9214 - val_loss: 0.2820 - val_accuracy: 0.8990\n",
      "Epoch 20/30\n",
      "860/860 [==============================] - 61s 71ms/step - loss: 0.2118 - accuracy: 0.9224 - val_loss: 0.2855 - val_accuracy: 0.8954\n",
      "Epoch 21/30\n",
      "860/860 [==============================] - 61s 71ms/step - loss: 0.2075 - accuracy: 0.9246 - val_loss: 0.2601 - val_accuracy: 0.9076\n",
      "Epoch 22/30\n",
      "860/860 [==============================] - 61s 71ms/step - loss: 0.2036 - accuracy: 0.9256 - val_loss: 0.2708 - val_accuracy: 0.9028\n",
      "Epoch 23/30\n",
      "860/860 [==============================] - 58s 68ms/step - loss: 0.1990 - accuracy: 0.9275 - val_loss: 0.2553 - val_accuracy: 0.9060\n",
      "Epoch 24/30\n",
      "860/860 [==============================] - 54s 62ms/step - loss: 0.1947 - accuracy: 0.9292 - val_loss: 0.2819 - val_accuracy: 0.8988\n",
      "Epoch 25/30\n",
      "860/860 [==============================] - 52s 61ms/step - loss: 0.1919 - accuracy: 0.9300 - val_loss: 0.2696 - val_accuracy: 0.9046\n",
      "Epoch 26/30\n",
      "860/860 [==============================] - 55s 64ms/step - loss: 0.1887 - accuracy: 0.9306 - val_loss: 0.2608 - val_accuracy: 0.9080\n",
      "Epoch 27/30\n",
      "860/860 [==============================] - 53s 62ms/step - loss: 0.1848 - accuracy: 0.9328 - val_loss: 0.2478 - val_accuracy: 0.9080\n",
      "Epoch 28/30\n",
      "860/860 [==============================] - 53s 62ms/step - loss: 0.1810 - accuracy: 0.9339 - val_loss: 0.3004 - val_accuracy: 0.8920\n",
      "Epoch 29/30\n",
      "860/860 [==============================] - 53s 62ms/step - loss: 0.1768 - accuracy: 0.9363 - val_loss: 0.2541 - val_accuracy: 0.9088\n",
      "Epoch 30/30\n",
      "860/860 [==============================] - 54s 63ms/step - loss: 0.1738 - accuracy: 0.9367 - val_loss: 0.2581 - val_accuracy: 0.9094\n"
     ]
    }
   ],
   "source": [
    "model_history = model.fit(x_train, y_train, epochs=30, batch_size=64, validation_data = (x_valid,y_valid))"
   ]
  },
  {
   "cell_type": "code",
   "execution_count": 24,
   "metadata": {},
   "outputs": [
    {
     "data": {
      "text/plain": [
       "{'loss': [0.3261885344982147,\n",
       "  0.3153083026409149,\n",
       "  0.3065861761569977,\n",
       "  0.29810386896133423,\n",
       "  0.29189345240592957,\n",
       "  0.2827948331832886,\n",
       "  0.2761920988559723,\n",
       "  0.270163893699646,\n",
       "  0.2645586431026459,\n",
       "  0.2581954598426819,\n",
       "  0.2525307238101959,\n",
       "  0.24645154178142548,\n",
       "  0.24333547055721283,\n",
       "  0.2381906807422638,\n",
       "  0.2327369898557663,\n",
       "  0.22883668541908264,\n",
       "  0.22345945239067078,\n",
       "  0.22045521438121796,\n",
       "  0.2158544510602951,\n",
       "  0.21179349720478058,\n",
       "  0.20749777555465698,\n",
       "  0.2035588026046753,\n",
       "  0.1989595592021942,\n",
       "  0.19471299648284912,\n",
       "  0.19187301397323608,\n",
       "  0.18871468305587769,\n",
       "  0.18483944237232208,\n",
       "  0.18095597624778748,\n",
       "  0.1767784208059311,\n",
       "  0.17383445799350739],\n",
       " 'accuracy': [0.8823999762535095,\n",
       "  0.8858181834220886,\n",
       "  0.8874363899230957,\n",
       "  0.8923636078834534,\n",
       "  0.8931090831756592,\n",
       "  0.8963272571563721,\n",
       "  0.9010363817214966,\n",
       "  0.9015636444091797,\n",
       "  0.9028727412223816,\n",
       "  0.9052545428276062,\n",
       "  0.9075090885162354,\n",
       "  0.9097272753715515,\n",
       "  0.9112363457679749,\n",
       "  0.9124727249145508,\n",
       "  0.9153454303741455,\n",
       "  0.9165636301040649,\n",
       "  0.918327271938324,\n",
       "  0.9191454648971558,\n",
       "  0.9214181900024414,\n",
       "  0.9224363565444946,\n",
       "  0.9246000051498413,\n",
       "  0.9255818128585815,\n",
       "  0.9275272488594055,\n",
       "  0.9291818141937256,\n",
       "  0.9300363659858704,\n",
       "  0.9305636286735535,\n",
       "  0.9328363537788391,\n",
       "  0.9339091181755066,\n",
       "  0.9362545609474182,\n",
       "  0.9367272853851318],\n",
       " 'val_loss': [0.3644159138202667,\n",
       "  0.3328830599784851,\n",
       "  0.5595946311950684,\n",
       "  0.31892597675323486,\n",
       "  0.3103865683078766,\n",
       "  0.2980538606643677,\n",
       "  0.3235729932785034,\n",
       "  0.37324172258377075,\n",
       "  0.3000556230545044,\n",
       "  0.30987831950187683,\n",
       "  0.2979988157749176,\n",
       "  0.2812192142009735,\n",
       "  0.2989557683467865,\n",
       "  0.34560686349868774,\n",
       "  0.32096248865127563,\n",
       "  0.26893556118011475,\n",
       "  0.35583364963531494,\n",
       "  0.33535146713256836,\n",
       "  0.2819765508174896,\n",
       "  0.28546205163002014,\n",
       "  0.2600642442703247,\n",
       "  0.2707637548446655,\n",
       "  0.2552690804004669,\n",
       "  0.2818731963634491,\n",
       "  0.26961731910705566,\n",
       "  0.2607537508010864,\n",
       "  0.2477632313966751,\n",
       "  0.3004123568534851,\n",
       "  0.2540616989135742,\n",
       "  0.2581407129764557],\n",
       " 'val_accuracy': [0.8677999973297119,\n",
       "  0.8844000101089478,\n",
       "  0.8001999855041504,\n",
       "  0.8876000046730042,\n",
       "  0.8894000053405762,\n",
       "  0.8980000019073486,\n",
       "  0.8906000256538391,\n",
       "  0.8611999750137329,\n",
       "  0.8906000256538391,\n",
       "  0.8903999924659729,\n",
       "  0.8920000195503235,\n",
       "  0.8985999822616577,\n",
       "  0.8920000195503235,\n",
       "  0.8709999918937683,\n",
       "  0.8859999775886536,\n",
       "  0.902400016784668,\n",
       "  0.8751999735832214,\n",
       "  0.8823999762535095,\n",
       "  0.8989999890327454,\n",
       "  0.8953999876976013,\n",
       "  0.9075999855995178,\n",
       "  0.9028000235557556,\n",
       "  0.906000018119812,\n",
       "  0.8988000154495239,\n",
       "  0.9046000242233276,\n",
       "  0.9079999923706055,\n",
       "  0.9079999923706055,\n",
       "  0.8920000195503235,\n",
       "  0.9088000059127808,\n",
       "  0.9093999862670898]}"
      ]
     },
     "execution_count": 24,
     "metadata": {},
     "output_type": "execute_result"
    }
   ],
   "source": [
    "model_history.history"
   ]
  },
  {
   "cell_type": "code",
   "execution_count": 26,
   "metadata": {},
   "outputs": [
    {
     "data": {
      "image/png": "[encoded data removed]",
      "text/plain": [
       "<Figure size 800x800 with 1 Axes>"
      ]
     },
     "metadata": {},
     "output_type": "display_data"
    }
   ],
   "source": [
    "import pandas as pd\n",
    "pd.DataFrame(model_history.history).plot(figsize=(8,8))\n",
    "plt.grid(True)\n",
    "plt.gca().set_ylim(0,1)\n",
    "plt.show()"
   ]
  },
  {
   "cell_type": "code",
   "execution_count": 27,
   "metadata": {},
   "outputs": [
    {
     "name": "stdout",
     "output_type": "stream",
     "text": [
      "313/313 [==============================] - 7s 22ms/step - loss: 0.2671 - accuracy: 0.9042\n",
      "[0.26711270213127136, 0.90420001745224]\n"
     ]
    }
   ],
   "source": [
    "evaluate = model.evaluate(x_test_n, y_test)\n",
    "print(evaluate)"
   ]
  },
  {
   "cell_type": "code",
   "execution_count": 29,
   "metadata": {},
   "outputs": [],
   "source": [
    "x_new = x_test[:10]\n"
   ]
  },
  {
   "cell_type": "code",
   "execution_count": 33,
   "metadata": {},
   "outputs": [
    {
     "name": "stdout",
     "output_type": "stream",
     "text": [
      "[[0.   0.   0.   0.   0.   0.   0.   0.01 0.   0.99]\n",
      " [0.   0.   1.   0.   0.   0.   0.   0.   0.   0.  ]\n",
      " [0.   1.   0.   0.   0.   0.   0.   0.   0.   0.  ]\n",
      " [0.   1.   0.   0.   0.   0.   0.   0.   0.   0.  ]\n",
      " [0.13 0.   0.03 0.   0.   0.   0.84 0.   0.   0.  ]\n",
      " [0.   1.   0.   0.   0.   0.   0.   0.   0.   0.  ]\n",
      " [0.   0.   0.   0.   1.   0.   0.   0.   0.   0.  ]\n",
      " [0.   0.   0.   0.   0.   0.   1.   0.   0.   0.  ]\n",
      " [0.   0.   0.   0.   0.   1.   0.   0.   0.   0.  ]\n",
      " [0.   0.   0.   0.   0.   0.   0.   1.   0.   0.  ]]\n"
     ]
    }
   ],
   "source": [
    "y_pred = model.predict(x_new)\n",
    "print(y_pred.round(2))"
   ]
  },
  {
   "cell_type": "code",
   "execution_count": 34,
   "metadata": {},
   "outputs": [
    {
     "data": {
      "text/plain": [
       "array([9, 2, 1, 1, 6, 1, 4, 6, 5, 7], dtype=int64)"
      ]
     },
     "execution_count": 34,
     "metadata": {},
     "output_type": "execute_result"
    }
   ],
   "source": [
    "y_pred = np.argmax(y_pred, axis=-1)\n",
    "y_pred"
   ]
  },
  {
   "cell_type": "code",
   "execution_count": 35,
   "metadata": {},
   "outputs": [
    {
     "name": "stdout",
     "output_type": "stream",
     "text": [
      "['Ankle boot' 'Pullover' 'Trouser' 'Trouser' 'Shirt' 'Trouser' 'Coat'\n",
      " 'Shirt' 'Sandal' 'Sneaker']\n"
     ]
    }
   ],
   "source": [
    "out = np.array(class_names)[y_pred]\n",
    "print(out)"
   ]
  },
  {
   "cell_type": "code",
   "execution_count": 39,
   "metadata": {},
   "outputs": [
    {
     "data": {
      "text/plain": [
       "<matplotlib.image.AxesImage at 0x1ff8a342970>"
      ]
     },
     "execution_count": 39,
     "metadata": {},
     "output_type": "execute_result"
    },
    {
     "data": {
      "image/png": "[encoded data removed]",
      "text/plain": [
       "<Figure size 640x480 with 1 Axes>"
      ]
     },
     "metadata": {},
     "output_type": "display_data"
    }
   ],
   "source": [
    "plt.imshow(x_test[0].reshape((28,28)))"
   ]
  },
  {
   "cell_type": "code",
   "execution_count": null,
   "metadata": {},
   "outputs": [],
   "source": []
  }
 ],
 "metadata": {
  "kernelspec": {
   "display_name": "Python 3",
   "language": "python",
   "name": "python3"
  },
  "language_info": {
   "codemirror_mode": {
    "name": "ipython",
    "version": 3
   },
   "file_extension": ".py",
   "mimetype": "text/x-python",
   "name": "python",
   "nbconvert_exporter": "python",
   "pygments_lexer": "ipython3",
   "version": "3.9.0"
  },
  "orig_nbformat": 4
 },
 "nbformat": 4,
 "nbformat_minor": 2
}
