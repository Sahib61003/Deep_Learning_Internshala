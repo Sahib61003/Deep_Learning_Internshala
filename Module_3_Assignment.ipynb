{
 "cells": [
  {
   "cell_type": "code",
   "execution_count": 41,
   "metadata": {},
   "outputs": [],
   "source": [
    "import tensorflow as tf\n",
    "import numpy as np\n",
    "import matplotlib.pyplot as plt\n",
    "from tensorflow import keras\n",
    "import pandas as pd"
   ]
  },
  {
   "cell_type": "markdown",
   "metadata": {},
   "source": [
    "Import data to create X_train_full, y_train_full, X_test and y_test variables"
   ]
  },
  {
   "cell_type": "code",
   "execution_count": 42,
   "metadata": {},
   "outputs": [],
   "source": [
    "digit_mnist = keras.datasets.mnist\n",
    "(x_train_full, y_train_full), (x_test, y_test) = digit_mnist.load_data()"
   ]
  },
  {
   "cell_type": "markdown",
   "metadata": {},
   "source": [
    "Reshape the independent (X) data"
   ]
  },
  {
   "cell_type": "code",
   "execution_count": 51,
   "metadata": {},
   "outputs": [],
   "source": [
    "x_train = x_train_full.reshape((60000, 28, 28, 1))\n",
    "x_test = x_test.reshape((10000, 28, 28, 1))\n"
   ]
  },
  {
   "cell_type": "markdown",
   "metadata": {},
   "source": [
    "Normalize the data"
   ]
  },
  {
   "cell_type": "code",
   "execution_count": 53,
   "metadata": {},
   "outputs": [],
   "source": [
    "x_train_n = x_train / 255.\n",
    "x_test_n = x_test / 255."
   ]
  },
  {
   "cell_type": "markdown",
   "metadata": {},
   "source": [
    "Create a validation set of 6000 images"
   ]
  },
  {
   "cell_type": "code",
   "execution_count": 59,
   "metadata": {},
   "outputs": [
    {
     "name": "stdout",
     "output_type": "stream",
     "text": [
      "(6000, 28, 28, 1)\n",
      "(54000, 28, 28, 1)\n",
      "(6000,)\n",
      "(54000,)\n",
      "(10000, 28, 28, 1)\n"
     ]
    }
   ],
   "source": [
    "x_valid, x_train = x_train_n[:6000], x_train_n[6000:]\n",
    "y_valid, y_train = y_train_full[:6000], y_train_full[6000:]\n",
    "x_test = x_test_n\n",
    "\n",
    "print(x_valid.shape)\n",
    "print(x_train.shape)\n",
    "print(y_valid.shape)\n",
    "print(y_train.shape)\n",
    "print(x_test.shape)"
   ]
  },
  {
   "cell_type": "markdown",
   "metadata": {},
   "source": [
    "Creating model architecture"
   ]
  },
  {
   "cell_type": "code",
   "execution_count": 60,
   "metadata": {},
   "outputs": [],
   "source": [
    "np.random.seed(42)\n",
    "tf.random.set_seed(42)"
   ]
  },
  {
   "cell_type": "markdown",
   "metadata": {},
   "source": [
    "Create a CNN model (Model_A) with a Conv layer of filters = 32, kernel_size = (3, 3), strides=1, padding='valid', a Max pooling layer of 2 by 2 window and two dense layers with 200 and 100 neurons"
   ]
  },
  {
   "cell_type": "code",
   "execution_count": 61,
   "metadata": {},
   "outputs": [],
   "source": [
    "model_a = keras.models.Sequential()\n",
    "model_a.add(keras.layers.Conv2D(filters = 32, kernel_size = (3, 3), strides=1, padding='valid', activation='relu', input_shape=(28, 28, 1)))\n",
    "model_a.add(keras.layers.MaxPooling2D((2, 2)))\n",
    "model_a.add(keras.layers.Flatten())\n",
    "model_a.add(keras.layers.Dense(300, activation=\"relu\"))\n",
    "model_a.add(keras.layers.Dense(100, activation=\"relu\"))\n",
    "model_a.add(keras.layers.Dense(10, activation=\"softmax\"))\n",
    "\n",
    "\n",
    " "
   ]
  },
  {
   "cell_type": "code",
   "execution_count": 62,
   "metadata": {},
   "outputs": [],
   "source": [
    "model_a.compile(loss=\"sparse_categorical_crossentropy\",\n",
    "\n",
    "              optimizer=\"sgd\",\n",
    "\n",
    "              metrics=[\"accuracy\"])"
   ]
  },
  {
   "cell_type": "code",
   "execution_count": 63,
   "metadata": {},
   "outputs": [
    {
     "name": "stdout",
     "output_type": "stream",
     "text": [
      "Model: \"sequential_8\"\n",
      "_________________________________________________________________\n",
      "Layer (type)                 Output Shape              Param #   \n",
      "=================================================================\n",
      "conv2d_8 (Conv2D)            (None, 26, 26, 32)        320       \n",
      "_________________________________________________________________\n",
      "max_pooling2d_7 (MaxPooling2 (None, 13, 13, 32)        0         \n",
      "_________________________________________________________________\n",
      "flatten_4 (Flatten)          (None, 5408)              0         \n",
      "_________________________________________________________________\n",
      "dense_19 (Dense)             (None, 300)               1622700   \n",
      "_________________________________________________________________\n",
      "dense_20 (Dense)             (None, 100)               30100     \n",
      "_________________________________________________________________\n",
      "dense_21 (Dense)             (None, 10)                1010      \n",
      "=================================================================\n",
      "Total params: 1,654,130\n",
      "Trainable params: 1,654,130\n",
      "Non-trainable params: 0\n",
      "_________________________________________________________________\n"
     ]
    }
   ],
   "source": [
    "model_a.summary()"
   ]
  },
  {
   "cell_type": "code",
   "execution_count": 64,
   "metadata": {},
   "outputs": [
    {
     "name": "stdout",
     "output_type": "stream",
     "text": [
      "Epoch 1/60\n",
      "844/844 [==============================] - 36s 41ms/step - loss: 0.7186 - accuracy: 0.8168 - val_loss: 0.2826 - val_accuracy: 0.9168\n",
      "Epoch 2/60\n",
      "844/844 [==============================] - 34s 40ms/step - loss: 0.2633 - accuracy: 0.9227 - val_loss: 0.2130 - val_accuracy: 0.9410\n",
      "Epoch 3/60\n",
      "844/844 [==============================] - 34s 40ms/step - loss: 0.2048 - accuracy: 0.9391 - val_loss: 0.1766 - val_accuracy: 0.9507\n",
      "Epoch 4/60\n",
      "844/844 [==============================] - 54s 64ms/step - loss: 0.1684 - accuracy: 0.9498 - val_loss: 0.1448 - val_accuracy: 0.9593\n",
      "Epoch 5/60\n",
      "844/844 [==============================] - 58s 69ms/step - loss: 0.1430 - accuracy: 0.9568 - val_loss: 0.1282 - val_accuracy: 0.9640\n",
      "Epoch 6/60\n",
      "844/844 [==============================] - 62s 73ms/step - loss: 0.1241 - accuracy: 0.9630 - val_loss: 0.1135 - val_accuracy: 0.9668\n",
      "Epoch 7/60\n",
      "844/844 [==============================] - 58s 69ms/step - loss: 0.1103 - accuracy: 0.9677 - val_loss: 0.1014 - val_accuracy: 0.9703\n",
      "Epoch 8/60\n",
      "844/844 [==============================] - 53s 62ms/step - loss: 0.0996 - accuracy: 0.9703 - val_loss: 0.0962 - val_accuracy: 0.9713\n",
      "Epoch 9/60\n",
      "844/844 [==============================] - 49s 59ms/step - loss: 0.0904 - accuracy: 0.9724 - val_loss: 0.0903 - val_accuracy: 0.9723\n",
      "Epoch 10/60\n",
      "844/844 [==============================] - 49s 58ms/step - loss: 0.0826 - accuracy: 0.9751 - val_loss: 0.0863 - val_accuracy: 0.9738\n",
      "Epoch 11/60\n",
      "844/844 [==============================] - 49s 58ms/step - loss: 0.0756 - accuracy: 0.9776 - val_loss: 0.0781 - val_accuracy: 0.9768\n",
      "Epoch 12/60\n",
      "844/844 [==============================] - 50s 60ms/step - loss: 0.0706 - accuracy: 0.9782 - val_loss: 0.0777 - val_accuracy: 0.9767\n",
      "Epoch 13/60\n",
      "844/844 [==============================] - 52s 62ms/step - loss: 0.0647 - accuracy: 0.9801 - val_loss: 0.0721 - val_accuracy: 0.9765\n",
      "Epoch 14/60\n",
      "844/844 [==============================] - 62s 73ms/step - loss: 0.0604 - accuracy: 0.9820 - val_loss: 0.0691 - val_accuracy: 0.9790\n",
      "Epoch 15/60\n",
      "844/844 [==============================] - 63s 74ms/step - loss: 0.0565 - accuracy: 0.9825 - val_loss: 0.0708 - val_accuracy: 0.9800\n",
      "Epoch 16/60\n",
      "844/844 [==============================] - 62s 73ms/step - loss: 0.0525 - accuracy: 0.9838 - val_loss: 0.0642 - val_accuracy: 0.9792\n",
      "Epoch 17/60\n",
      "844/844 [==============================] - 64s 75ms/step - loss: 0.0496 - accuracy: 0.9851 - val_loss: 0.0671 - val_accuracy: 0.9788\n",
      "Epoch 18/60\n",
      "844/844 [==============================] - 64s 76ms/step - loss: 0.0467 - accuracy: 0.9857 - val_loss: 0.0623 - val_accuracy: 0.9802\n",
      "Epoch 19/60\n",
      "844/844 [==============================] - 63s 74ms/step - loss: 0.0436 - accuracy: 0.9869 - val_loss: 0.0751 - val_accuracy: 0.9753\n",
      "Epoch 20/60\n",
      "844/844 [==============================] - 61s 72ms/step - loss: 0.0408 - accuracy: 0.9877 - val_loss: 0.0639 - val_accuracy: 0.9805\n",
      "Epoch 21/60\n",
      "844/844 [==============================] - 62s 74ms/step - loss: 0.0389 - accuracy: 0.9883 - val_loss: 0.0598 - val_accuracy: 0.9805\n",
      "Epoch 22/60\n",
      "844/844 [==============================] - 63s 74ms/step - loss: 0.0367 - accuracy: 0.9886 - val_loss: 0.0646 - val_accuracy: 0.9782\n",
      "Epoch 23/60\n",
      "844/844 [==============================] - 74s 88ms/step - loss: 0.0346 - accuracy: 0.9896 - val_loss: 0.0681 - val_accuracy: 0.9797\n",
      "Epoch 24/60\n",
      "844/844 [==============================] - 61s 72ms/step - loss: 0.0326 - accuracy: 0.9904 - val_loss: 0.0589 - val_accuracy: 0.9827\n",
      "Epoch 25/60\n",
      "844/844 [==============================] - 52s 61ms/step - loss: 0.0311 - accuracy: 0.9907 - val_loss: 0.0644 - val_accuracy: 0.9805\n",
      "Epoch 26/60\n",
      "844/844 [==============================] - 57s 68ms/step - loss: 0.0294 - accuracy: 0.9913 - val_loss: 0.0612 - val_accuracy: 0.9802\n",
      "Epoch 27/60\n",
      "844/844 [==============================] - 55s 65ms/step - loss: 0.0272 - accuracy: 0.9927 - val_loss: 0.0567 - val_accuracy: 0.9825\n",
      "Epoch 28/60\n",
      "844/844 [==============================] - 55s 65ms/step - loss: 0.0259 - accuracy: 0.9926 - val_loss: 0.0580 - val_accuracy: 0.9822\n",
      "Epoch 29/60\n",
      "844/844 [==============================] - 54s 64ms/step - loss: 0.0243 - accuracy: 0.9930 - val_loss: 0.0603 - val_accuracy: 0.9820\n",
      "Epoch 30/60\n",
      "844/844 [==============================] - 59s 69ms/step - loss: 0.0228 - accuracy: 0.9937 - val_loss: 0.0575 - val_accuracy: 0.9828\n",
      "Epoch 31/60\n",
      "844/844 [==============================] - 58s 68ms/step - loss: 0.0214 - accuracy: 0.9943 - val_loss: 0.0579 - val_accuracy: 0.9810\n",
      "Epoch 32/60\n",
      "844/844 [==============================] - 59s 70ms/step - loss: 0.0207 - accuracy: 0.9941 - val_loss: 0.0547 - val_accuracy: 0.9832\n",
      "Epoch 33/60\n",
      "844/844 [==============================] - 62s 73ms/step - loss: 0.0191 - accuracy: 0.9949 - val_loss: 0.0636 - val_accuracy: 0.9815\n",
      "Epoch 34/60\n",
      "844/844 [==============================] - 60s 71ms/step - loss: 0.0186 - accuracy: 0.9951 - val_loss: 0.0565 - val_accuracy: 0.9838\n",
      "Epoch 35/60\n",
      "844/844 [==============================] - 60s 71ms/step - loss: 0.0173 - accuracy: 0.9956 - val_loss: 0.0528 - val_accuracy: 0.9848\n",
      "Epoch 36/60\n",
      "844/844 [==============================] - 60s 72ms/step - loss: 0.0161 - accuracy: 0.9961 - val_loss: 0.0599 - val_accuracy: 0.9830\n",
      "Epoch 37/60\n",
      "844/844 [==============================] - 52s 62ms/step - loss: 0.0154 - accuracy: 0.9965 - val_loss: 0.0585 - val_accuracy: 0.9828\n",
      "Epoch 38/60\n",
      "844/844 [==============================] - 52s 62ms/step - loss: 0.0151 - accuracy: 0.9964 - val_loss: 0.0607 - val_accuracy: 0.9828\n",
      "Epoch 39/60\n",
      "844/844 [==============================] - 50s 60ms/step - loss: 0.0144 - accuracy: 0.9965 - val_loss: 0.0601 - val_accuracy: 0.9830\n",
      "Epoch 40/60\n",
      "844/844 [==============================] - 54s 64ms/step - loss: 0.0132 - accuracy: 0.9967 - val_loss: 0.0562 - val_accuracy: 0.9845\n",
      "Epoch 41/60\n",
      "844/844 [==============================] - 51s 60ms/step - loss: 0.0120 - accuracy: 0.9975 - val_loss: 0.0570 - val_accuracy: 0.9843\n",
      "Epoch 42/60\n",
      "844/844 [==============================] - 51s 61ms/step - loss: 0.0119 - accuracy: 0.9972 - val_loss: 0.0591 - val_accuracy: 0.9818\n",
      "Epoch 43/60\n",
      "844/844 [==============================] - 52s 61ms/step - loss: 0.0111 - accuracy: 0.9977 - val_loss: 0.0597 - val_accuracy: 0.9833\n",
      "Epoch 44/60\n",
      "844/844 [==============================] - 55s 65ms/step - loss: 0.0108 - accuracy: 0.9978 - val_loss: 0.0570 - val_accuracy: 0.9842\n",
      "Epoch 45/60\n",
      "844/844 [==============================] - 61s 72ms/step - loss: 0.0100 - accuracy: 0.9980 - val_loss: 0.0557 - val_accuracy: 0.9847\n",
      "Epoch 46/60\n",
      "844/844 [==============================] - 60s 71ms/step - loss: 0.0094 - accuracy: 0.9981 - val_loss: 0.0557 - val_accuracy: 0.9842\n",
      "Epoch 47/60\n",
      "844/844 [==============================] - 58s 69ms/step - loss: 0.0089 - accuracy: 0.9983 - val_loss: 0.0573 - val_accuracy: 0.9838\n",
      "Epoch 48/60\n",
      "844/844 [==============================] - 62s 74ms/step - loss: 0.0082 - accuracy: 0.9985 - val_loss: 0.0566 - val_accuracy: 0.9838\n",
      "Epoch 49/60\n",
      "844/844 [==============================] - 59s 70ms/step - loss: 0.0079 - accuracy: 0.9987 - val_loss: 0.0566 - val_accuracy: 0.9847\n",
      "Epoch 50/60\n",
      "844/844 [==============================] - 61s 72ms/step - loss: 0.0077 - accuracy: 0.9985 - val_loss: 0.0577 - val_accuracy: 0.9847\n",
      "Epoch 51/60\n",
      "844/844 [==============================] - 57s 68ms/step - loss: 0.0073 - accuracy: 0.9987 - val_loss: 0.0588 - val_accuracy: 0.9830\n",
      "Epoch 52/60\n",
      "844/844 [==============================] - 52s 62ms/step - loss: 0.0068 - accuracy: 0.9989 - val_loss: 0.0580 - val_accuracy: 0.9842\n",
      "Epoch 53/60\n",
      "844/844 [==============================] - 55s 65ms/step - loss: 0.0064 - accuracy: 0.9989 - val_loss: 0.0583 - val_accuracy: 0.9843\n",
      "Epoch 54/60\n",
      "844/844 [==============================] - 56s 66ms/step - loss: 0.0065 - accuracy: 0.9989 - val_loss: 0.0561 - val_accuracy: 0.9843\n",
      "Epoch 55/60\n",
      "844/844 [==============================] - 46s 54ms/step - loss: 0.0060 - accuracy: 0.9990 - val_loss: 0.0578 - val_accuracy: 0.9852\n",
      "Epoch 56/60\n",
      "844/844 [==============================] - 32s 37ms/step - loss: 0.0053 - accuracy: 0.9994 - val_loss: 0.0554 - val_accuracy: 0.9857\n",
      "Epoch 57/60\n",
      "844/844 [==============================] - 33s 39ms/step - loss: 0.0052 - accuracy: 0.9993 - val_loss: 0.0581 - val_accuracy: 0.9833\n",
      "Epoch 58/60\n",
      "844/844 [==============================] - 33s 39ms/step - loss: 0.0050 - accuracy: 0.9992 - val_loss: 0.0561 - val_accuracy: 0.9842\n",
      "Epoch 59/60\n",
      "844/844 [==============================] - 32s 38ms/step - loss: 0.0049 - accuracy: 0.9993 - val_loss: 0.0604 - val_accuracy: 0.9838\n",
      "Epoch 60/60\n",
      "844/844 [==============================] - 37s 44ms/step - loss: 0.0045 - accuracy: 0.9993 - val_loss: 0.0572 - val_accuracy: 0.9853\n"
     ]
    }
   ],
   "source": [
    "model_a_history = model_a.fit(x_train, y_train, epochs=60, batch_size=64, validation_data=(x_valid, y_valid))"
   ]
  },
  {
   "cell_type": "code",
   "execution_count": 66,
   "metadata": {},
   "outputs": [
    {
     "data": {
      "image/png": "[encoded data removed]",
      "text/plain": [
       "<Figure size 800x800 with 1 Axes>"
      ]
     },
     "metadata": {},
     "output_type": "display_data"
    }
   ],
   "source": [
    "pd.DataFrame(model_a_history.history).plot(figsize=(8,8))\n",
    "plt.grid(True)\n",
    "plt.gca().set_ylim(0,1)\n",
    "plt.show()"
   ]
  },
  {
   "cell_type": "code",
   "execution_count": 68,
   "metadata": {},
   "outputs": [
    {
     "name": "stdout",
     "output_type": "stream",
     "text": [
      "  1/313 [..............................] - ETA: 5s - loss: 2.7472 - accuracy: 0.0938"
     ]
    },
    {
     "name": "stdout",
     "output_type": "stream",
     "text": [
      "313/313 [==============================] - 1s 4ms/step - loss: 2.6387 - accuracy: 0.0892\n",
      "[2.6387369632720947, 0.08919999748468399]\n"
     ]
    }
   ],
   "source": [
    "evaluate = model_a.evaluate(x_test_n, y_test)\n",
    "print(evaluate)"
   ]
  },
  {
   "cell_type": "code",
   "execution_count": 70,
   "metadata": {},
   "outputs": [],
   "source": [
    "model_b = keras.models.Sequential()\n",
    "model_b.add(keras.layers.Conv2D(filters = 64, kernel_size = (3, 3), strides=1, padding='valid', activation='relu', input_shape=(28, 28, 1)))\n",
    "model_b.add(keras.layers.MaxPooling2D((2, 2)))\n",
    "model_b.add(keras.layers.Flatten())\n",
    "model_b.add(keras.layers.Dense(300, activation=\"relu\"))\n",
    "model_b.add(keras.layers.Dense(100, activation=\"relu\"))\n",
    "model_b.add(keras.layers.Dense(10, activation=\"softmax\"))\n",
    "\n",
    "\n",
    " "
   ]
  },
  {
   "cell_type": "code",
   "execution_count": 71,
   "metadata": {},
   "outputs": [],
   "source": [
    "model_b.compile(loss=\"sparse_categorical_crossentropy\",\n",
    "\n",
    "              optimizer=\"sgd\",\n",
    "\n",
    "              metrics=[\"accuracy\"])"
   ]
  },
  {
   "cell_type": "code",
   "execution_count": 73,
   "metadata": {},
   "outputs": [
    {
     "name": "stdout",
     "output_type": "stream",
     "text": [
      "Epoch 1/10\n",
      "844/844 [==============================] - 29s 34ms/step - loss: 0.1077 - accuracy: 0.9679 - val_loss: 0.0987 - val_accuracy: 0.9712\n",
      "Epoch 2/10\n",
      "844/844 [==============================] - 29s 34ms/step - loss: 0.0967 - accuracy: 0.9718 - val_loss: 0.0968 - val_accuracy: 0.9697\n",
      "Epoch 3/10\n",
      "844/844 [==============================] - 29s 34ms/step - loss: 0.0880 - accuracy: 0.9736 - val_loss: 0.0868 - val_accuracy: 0.9750\n",
      "Epoch 4/10\n",
      "844/844 [==============================] - 29s 34ms/step - loss: 0.0802 - accuracy: 0.9760 - val_loss: 0.0815 - val_accuracy: 0.9763\n",
      "Epoch 5/10\n",
      "844/844 [==============================] - 29s 35ms/step - loss: 0.0735 - accuracy: 0.9779 - val_loss: 0.0806 - val_accuracy: 0.9757\n",
      "Epoch 6/10\n",
      "844/844 [==============================] - 29s 34ms/step - loss: 0.0679 - accuracy: 0.9801 - val_loss: 0.0724 - val_accuracy: 0.9782\n",
      "Epoch 7/10\n",
      "844/844 [==============================] - 30s 36ms/step - loss: 0.0640 - accuracy: 0.9809 - val_loss: 0.0714 - val_accuracy: 0.9787\n",
      "Epoch 8/10\n",
      "844/844 [==============================] - 31s 37ms/step - loss: 0.0590 - accuracy: 0.9828 - val_loss: 0.0674 - val_accuracy: 0.9800\n",
      "Epoch 9/10\n",
      "844/844 [==============================] - 31s 36ms/step - loss: 0.0554 - accuracy: 0.9835 - val_loss: 0.0654 - val_accuracy: 0.9807\n",
      "Epoch 10/10\n",
      "844/844 [==============================] - 30s 36ms/step - loss: 0.0516 - accuracy: 0.9846 - val_loss: 0.0698 - val_accuracy: 0.9778\n"
     ]
    }
   ],
   "source": [
    "model_b_history = model_b.fit(x_train, y_train, epochs=10, batch_size=64, validation_data=(x_valid, y_valid))"
   ]
  },
  {
   "cell_type": "code",
   "execution_count": 75,
   "metadata": {},
   "outputs": [
    {
     "name": "stdout",
     "output_type": "stream",
     "text": [
      "313/313 [==============================] - 2s 6ms/step - loss: 2.3946 - accuracy: 0.0892\n",
      "[2.3946144580841064, 0.08919999748468399]\n"
     ]
    }
   ],
   "source": [
    "evaluate = model_b.evaluate(x_test_n, y_test)\n",
    "print(evaluate)"
   ]
  },
  {
   "cell_type": "code",
   "execution_count": 76,
   "metadata": {},
   "outputs": [
    {
     "data": {
      "image/png": "[encoded data removed]",
      "text/plain": [
       "<Figure size 800x800 with 1 Axes>"
      ]
     },
     "metadata": {},
     "output_type": "display_data"
    }
   ],
   "source": [
    "pd.DataFrame(model_b_history.history).plot(figsize=(8,8))\n",
    "plt.grid(True)\n",
    "plt.gca().set_ylim(0,1)\n",
    "plt.show()"
   ]
  }
 ],
 "metadata": {
  "kernelspec": {
   "display_name": "Python 3",
   "language": "python",
   "name": "python3"
  },
  "language_info": {
   "codemirror_mode": {
    "name": "ipython",
    "version": 3
   },
   "file_extension": ".py",
   "mimetype": "text/x-python",
   "name": "python",
   "nbconvert_exporter": "python",
   "pygments_lexer": "ipython3",
   "version": "3.9.0"
  },
  "orig_nbformat": 4
 },
 "nbformat": 4,
 "nbformat_minor": 2
}
