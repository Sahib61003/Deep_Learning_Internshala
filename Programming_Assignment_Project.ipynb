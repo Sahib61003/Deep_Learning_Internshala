{
 "cells": [
  {
   "cell_type": "markdown",
   "metadata": {},
   "source": [
    "# Practice Assignment: MNIST Digit classification"
   ]
  },
  {
   "cell_type": "code",
   "execution_count": 1,
   "metadata": {},
   "outputs": [],
   "source": [
    "import tensorflow as tf\n",
    "import numpy as np\n",
    "import matplotlib.pyplot as plt\n",
    "from tensorflow import keras"
   ]
  },
  {
   "cell_type": "code",
   "execution_count": 2,
   "metadata": {},
   "outputs": [],
   "source": [
    "digit_mnist = keras.datasets.mnist"
   ]
  },
  {
   "cell_type": "code",
   "execution_count": 7,
   "metadata": {},
   "outputs": [],
   "source": [
    "(x_train_full, y_train_full), (x_test, y_test) = digit_mnist.load_data()"
   ]
  },
  {
   "cell_type": "code",
   "execution_count": 8,
   "metadata": {},
   "outputs": [],
   "source": [
    "x_train_n = x_train_full / 255.\n",
    "x_test_n = x_test / 255."
   ]
  },
  {
   "cell_type": "code",
   "execution_count": 9,
   "metadata": {},
   "outputs": [
    {
     "name": "stdout",
     "output_type": "stream",
     "text": [
      "(6000, 28, 28)\n",
      "(54000, 28, 28)\n",
      "(6000,)\n",
      "(54000,)\n",
      "(10000, 28, 28)\n"
     ]
    }
   ],
   "source": [
    "x_valid, x_train = x_train_n[:6000], x_train_n[6000:]\n",
    "y_valid, y_train = y_train_full[:6000], y_train_full[6000:]\n",
    "x_test = x_test_n\n",
    "\n",
    "print(x_valid.shape)\n",
    "print(x_train.shape)\n",
    "print(y_valid.shape)\n",
    "print(y_train.shape)\n",
    "print(x_test.shape)"
   ]
  },
  {
   "cell_type": "code",
   "execution_count": 10,
   "metadata": {},
   "outputs": [],
   "source": [
    "np.random.seed(42)\n",
    "tf.random.set_seed(42)\n",
    "model = keras.models.Sequential()\n",
    "model.add(keras.layers.Flatten(input_shape = [28,28]))\n",
    "model.add(keras.layers.Dense(200, activation = \"relu\"))\n",
    "model.add(keras.layers.Dense(100, activation = \"relu\"))\n",
    "model.add(keras.layers.Dense(10, activation = \"softmax\"))"
   ]
  },
  {
   "cell_type": "code",
   "execution_count": 11,
   "metadata": {},
   "outputs": [
    {
     "name": "stdout",
     "output_type": "stream",
     "text": [
      "Model: \"sequential\"\n",
      "_________________________________________________________________\n",
      "Layer (type)                 Output Shape              Param #   \n",
      "=================================================================\n",
      "flatten (Flatten)            (None, 784)               0         \n",
      "_________________________________________________________________\n",
      "dense (Dense)                (None, 200)               157000    \n",
      "_________________________________________________________________\n",
      "dense_1 (Dense)              (None, 100)               20100     \n",
      "_________________________________________________________________\n",
      "dense_2 (Dense)              (None, 10)                1010      \n",
      "=================================================================\n",
      "Total params: 178,110\n",
      "Trainable params: 178,110\n",
      "Non-trainable params: 0\n",
      "_________________________________________________________________\n"
     ]
    }
   ],
   "source": [
    "model.summary()"
   ]
  },
  {
   "cell_type": "code",
   "execution_count": 12,
   "metadata": {},
   "outputs": [
    {
     "name": "stdout",
     "output_type": "stream",
     "text": [
      "('You must install pydot (`pip install pydot`) and install graphviz (see instructions at https://graphviz.gitlab.io/download/) ', 'for plot_model/model_to_dot to work.')\n"
     ]
    }
   ],
   "source": [
    "import pydot\n",
    "keras.utils.plot_model(model)"
   ]
  },
  {
   "cell_type": "code",
   "execution_count": 13,
   "metadata": {},
   "outputs": [],
   "source": [
    "weights, biases = model.layers[1].get_weights()"
   ]
  },
  {
   "cell_type": "code",
   "execution_count": 14,
   "metadata": {},
   "outputs": [],
   "source": [
    "model.compile(loss=\"sparse_categorical_crossentropy\", optimizer=\"sgd\", metrics=[\"accuracy\"])"
   ]
  },
  {
   "cell_type": "code",
   "execution_count": 15,
   "metadata": {},
   "outputs": [
    {
     "name": "stdout",
     "output_type": "stream",
     "text": [
      "Epoch 1/60\n",
      "1688/1688 [==============================] - 5s 3ms/step - loss: 0.6607 - accuracy: 0.8267 - val_loss: 0.3216 - val_accuracy: 0.9125\n",
      "Epoch 2/60\n",
      "1688/1688 [==============================] - 4s 2ms/step - loss: 0.3006 - accuracy: 0.9141 - val_loss: 0.2585 - val_accuracy: 0.9283\n",
      "Epoch 3/60\n",
      "1688/1688 [==============================] - 4s 2ms/step - loss: 0.2488 - accuracy: 0.9293 - val_loss: 0.2254 - val_accuracy: 0.9385\n",
      "Epoch 4/60\n",
      "1688/1688 [==============================] - 4s 2ms/step - loss: 0.2151 - accuracy: 0.9390 - val_loss: 0.1961 - val_accuracy: 0.9442\n",
      "Epoch 5/60\n",
      "1688/1688 [==============================] - 4s 2ms/step - loss: 0.1893 - accuracy: 0.9461 - val_loss: 0.1790 - val_accuracy: 0.9483\n",
      "Epoch 6/60\n",
      "1688/1688 [==============================] - 4s 3ms/step - loss: 0.1690 - accuracy: 0.9517 - val_loss: 0.1638 - val_accuracy: 0.9525\n",
      "Epoch 7/60\n",
      "1688/1688 [==============================] - 4s 2ms/step - loss: 0.1521 - accuracy: 0.9570 - val_loss: 0.1483 - val_accuracy: 0.9587\n",
      "Epoch 8/60\n",
      "1688/1688 [==============================] - 4s 2ms/step - loss: 0.1378 - accuracy: 0.9611 - val_loss: 0.1417 - val_accuracy: 0.9608\n",
      "Epoch 9/60\n",
      "1688/1688 [==============================] - 4s 2ms/step - loss: 0.1260 - accuracy: 0.9642 - val_loss: 0.1315 - val_accuracy: 0.9648\n",
      "Epoch 10/60\n",
      "1688/1688 [==============================] - 4s 2ms/step - loss: 0.1157 - accuracy: 0.9673 - val_loss: 0.1273 - val_accuracy: 0.9638\n",
      "Epoch 11/60\n",
      "1688/1688 [==============================] - 4s 2ms/step - loss: 0.1066 - accuracy: 0.9697 - val_loss: 0.1157 - val_accuracy: 0.9677\n",
      "Epoch 12/60\n",
      "1688/1688 [==============================] - 4s 2ms/step - loss: 0.0991 - accuracy: 0.9722 - val_loss: 0.1118 - val_accuracy: 0.9698\n",
      "Epoch 13/60\n",
      "1688/1688 [==============================] - 4s 2ms/step - loss: 0.0917 - accuracy: 0.9747 - val_loss: 0.1056 - val_accuracy: 0.9712\n",
      "Epoch 14/60\n",
      "1688/1688 [==============================] - 4s 2ms/step - loss: 0.0857 - accuracy: 0.9767 - val_loss: 0.1005 - val_accuracy: 0.9722\n",
      "Epoch 15/60\n",
      "1688/1688 [==============================] - 4s 2ms/step - loss: 0.0802 - accuracy: 0.9776 - val_loss: 0.0990 - val_accuracy: 0.9727\n",
      "Epoch 16/60\n",
      "1688/1688 [==============================] - 4s 2ms/step - loss: 0.0752 - accuracy: 0.9794 - val_loss: 0.0945 - val_accuracy: 0.9725\n",
      "Epoch 17/60\n",
      "1688/1688 [==============================] - 4s 2ms/step - loss: 0.0707 - accuracy: 0.9808 - val_loss: 0.0936 - val_accuracy: 0.9727\n",
      "Epoch 18/60\n",
      "1688/1688 [==============================] - 4s 2ms/step - loss: 0.0659 - accuracy: 0.9819 - val_loss: 0.0893 - val_accuracy: 0.9752\n",
      "Epoch 19/60\n",
      "1688/1688 [==============================] - 4s 2ms/step - loss: 0.0624 - accuracy: 0.9829 - val_loss: 0.0895 - val_accuracy: 0.9738\n",
      "Epoch 20/60\n",
      "1688/1688 [==============================] - 4s 2ms/step - loss: 0.0587 - accuracy: 0.9841 - val_loss: 0.0874 - val_accuracy: 0.9752\n",
      "Epoch 21/60\n",
      "1688/1688 [==============================] - 4s 2ms/step - loss: 0.0555 - accuracy: 0.9850 - val_loss: 0.0863 - val_accuracy: 0.9757\n",
      "Epoch 22/60\n",
      "1688/1688 [==============================] - 4s 2ms/step - loss: 0.0525 - accuracy: 0.9859 - val_loss: 0.0839 - val_accuracy: 0.9758\n",
      "Epoch 23/60\n",
      "1688/1688 [==============================] - 4s 2ms/step - loss: 0.0496 - accuracy: 0.9865 - val_loss: 0.0830 - val_accuracy: 0.9765\n",
      "Epoch 24/60\n",
      "1688/1688 [==============================] - 4s 2ms/step - loss: 0.0468 - accuracy: 0.9873 - val_loss: 0.0825 - val_accuracy: 0.9757\n",
      "Epoch 25/60\n",
      "1688/1688 [==============================] - 4s 2ms/step - loss: 0.0443 - accuracy: 0.9885 - val_loss: 0.0834 - val_accuracy: 0.9743\n",
      "Epoch 26/60\n",
      "1688/1688 [==============================] - 4s 2ms/step - loss: 0.0420 - accuracy: 0.9887 - val_loss: 0.0812 - val_accuracy: 0.9763\n",
      "Epoch 27/60\n",
      "1688/1688 [==============================] - 4s 2ms/step - loss: 0.0398 - accuracy: 0.9892 - val_loss: 0.0772 - val_accuracy: 0.9772\n",
      "Epoch 28/60\n",
      "1688/1688 [==============================] - 4s 2ms/step - loss: 0.0378 - accuracy: 0.9901 - val_loss: 0.0773 - val_accuracy: 0.9768\n",
      "Epoch 29/60\n",
      "1688/1688 [==============================] - 4s 2ms/step - loss: 0.0358 - accuracy: 0.9906 - val_loss: 0.0761 - val_accuracy: 0.9780\n",
      "Epoch 30/60\n",
      "1688/1688 [==============================] - 4s 2ms/step - loss: 0.0338 - accuracy: 0.9916 - val_loss: 0.0786 - val_accuracy: 0.9770\n",
      "Epoch 31/60\n",
      "1688/1688 [==============================] - 4s 2ms/step - loss: 0.0321 - accuracy: 0.9919 - val_loss: 0.0753 - val_accuracy: 0.9778\n",
      "Epoch 32/60\n",
      "1688/1688 [==============================] - 4s 2ms/step - loss: 0.0304 - accuracy: 0.9927 - val_loss: 0.0774 - val_accuracy: 0.9777\n",
      "Epoch 33/60\n",
      "1688/1688 [==============================] - 4s 2ms/step - loss: 0.0289 - accuracy: 0.9931 - val_loss: 0.0766 - val_accuracy: 0.9778\n",
      "Epoch 34/60\n",
      "1688/1688 [==============================] - 4s 2ms/step - loss: 0.0274 - accuracy: 0.9938 - val_loss: 0.0765 - val_accuracy: 0.9780\n",
      "Epoch 35/60\n",
      "1688/1688 [==============================] - 4s 2ms/step - loss: 0.0260 - accuracy: 0.9940 - val_loss: 0.0750 - val_accuracy: 0.9780\n",
      "Epoch 36/60\n",
      "1688/1688 [==============================] - 4s 2ms/step - loss: 0.0246 - accuracy: 0.9946 - val_loss: 0.0800 - val_accuracy: 0.9765\n",
      "Epoch 37/60\n",
      "1688/1688 [==============================] - 4s 2ms/step - loss: 0.0237 - accuracy: 0.9944 - val_loss: 0.0757 - val_accuracy: 0.9778\n",
      "Epoch 38/60\n",
      "1688/1688 [==============================] - 4s 2ms/step - loss: 0.0223 - accuracy: 0.9954 - val_loss: 0.0762 - val_accuracy: 0.9780\n",
      "Epoch 39/60\n",
      "1688/1688 [==============================] - 4s 2ms/step - loss: 0.0212 - accuracy: 0.9958 - val_loss: 0.0753 - val_accuracy: 0.9782\n",
      "Epoch 40/60\n",
      "1688/1688 [==============================] - 4s 2ms/step - loss: 0.0202 - accuracy: 0.9962 - val_loss: 0.0758 - val_accuracy: 0.9780\n",
      "Epoch 41/60\n",
      "1688/1688 [==============================] - 4s 2ms/step - loss: 0.0191 - accuracy: 0.9967 - val_loss: 0.0756 - val_accuracy: 0.9778\n",
      "Epoch 42/60\n",
      "1688/1688 [==============================] - 4s 2ms/step - loss: 0.0182 - accuracy: 0.9969 - val_loss: 0.0771 - val_accuracy: 0.9773\n",
      "Epoch 43/60\n",
      "1688/1688 [==============================] - 4s 2ms/step - loss: 0.0174 - accuracy: 0.9971 - val_loss: 0.0824 - val_accuracy: 0.9765\n",
      "Epoch 44/60\n",
      "1688/1688 [==============================] - 4s 2ms/step - loss: 0.0166 - accuracy: 0.9973 - val_loss: 0.0758 - val_accuracy: 0.9783\n",
      "Epoch 45/60\n",
      "1688/1688 [==============================] - 4s 2ms/step - loss: 0.0157 - accuracy: 0.9976 - val_loss: 0.0758 - val_accuracy: 0.9780\n",
      "Epoch 46/60\n",
      "1688/1688 [==============================] - 4s 2ms/step - loss: 0.0150 - accuracy: 0.9979 - val_loss: 0.0763 - val_accuracy: 0.9780\n",
      "Epoch 47/60\n",
      "1688/1688 [==============================] - 4s 2ms/step - loss: 0.0143 - accuracy: 0.9980 - val_loss: 0.0769 - val_accuracy: 0.9777\n",
      "Epoch 48/60\n",
      "1688/1688 [==============================] - 4s 2ms/step - loss: 0.0137 - accuracy: 0.9983 - val_loss: 0.0772 - val_accuracy: 0.9763\n",
      "Epoch 49/60\n",
      "1688/1688 [==============================] - 4s 2ms/step - loss: 0.0130 - accuracy: 0.9983 - val_loss: 0.0778 - val_accuracy: 0.9775\n",
      "Epoch 50/60\n",
      "1688/1688 [==============================] - 4s 2ms/step - loss: 0.0124 - accuracy: 0.9986 - val_loss: 0.0794 - val_accuracy: 0.9773\n",
      "Epoch 51/60\n",
      "1688/1688 [==============================] - 4s 2ms/step - loss: 0.0119 - accuracy: 0.9986 - val_loss: 0.0771 - val_accuracy: 0.9778\n",
      "Epoch 52/60\n",
      "1688/1688 [==============================] - 4s 2ms/step - loss: 0.0114 - accuracy: 0.9988 - val_loss: 0.0764 - val_accuracy: 0.9782\n",
      "Epoch 53/60\n",
      "1688/1688 [==============================] - 4s 2ms/step - loss: 0.0109 - accuracy: 0.9988 - val_loss: 0.0781 - val_accuracy: 0.9782\n",
      "Epoch 54/60\n",
      "1688/1688 [==============================] - 4s 2ms/step - loss: 0.0105 - accuracy: 0.9989 - val_loss: 0.0766 - val_accuracy: 0.9788\n",
      "Epoch 55/60\n",
      "1688/1688 [==============================] - 4s 2ms/step - loss: 0.0100 - accuracy: 0.9991 - val_loss: 0.0782 - val_accuracy: 0.9775\n",
      "Epoch 56/60\n",
      "1688/1688 [==============================] - 4s 2ms/step - loss: 0.0095 - accuracy: 0.9991 - val_loss: 0.0791 - val_accuracy: 0.9777\n",
      "Epoch 57/60\n",
      "1688/1688 [==============================] - 4s 2ms/step - loss: 0.0091 - accuracy: 0.9993 - val_loss: 0.0794 - val_accuracy: 0.9778\n",
      "Epoch 58/60\n",
      "1688/1688 [==============================] - 4s 2ms/step - loss: 0.0088 - accuracy: 0.9992 - val_loss: 0.0776 - val_accuracy: 0.9782\n",
      "Epoch 59/60\n",
      "1688/1688 [==============================] - 4s 2ms/step - loss: 0.0085 - accuracy: 0.9994 - val_loss: 0.0801 - val_accuracy: 0.9772\n",
      "Epoch 60/60\n",
      "1688/1688 [==============================] - 4s 2ms/step - loss: 0.0081 - accuracy: 0.9993 - val_loss: 0.0807 - val_accuracy: 0.9777\n"
     ]
    }
   ],
   "source": [
    "model_history = model.fit(x_train, y_train, epochs=60, validation_data=(x_valid,y_valid))"
   ]
  },
  {
   "cell_type": "code",
   "execution_count": 16,
   "metadata": {},
   "outputs": [
    {
     "data": {
      "text/plain": [
       "{'verbose': 1, 'epochs': 60, 'steps': 1688}"
      ]
     },
     "execution_count": 16,
     "metadata": {},
     "output_type": "execute_result"
    }
   ],
   "source": [
    "model_history.params"
   ]
  },
  {
   "cell_type": "code",
   "execution_count": 17,
   "metadata": {},
   "outputs": [
    {
     "data": {
      "image/png": "[encoded data removed]",
      "text/plain": [
       "<Figure size 500x500 with 1 Axes>"
      ]
     },
     "metadata": {},
     "output_type": "display_data"
    }
   ],
   "source": [
    "import pandas as pd\n",
    "pd.DataFrame(model_history.history).plot(figsize=(5,5))\n",
    "plt.grid(True)\n",
    "plt.gca().set_ylim(0,1)\n",
    "plt.show()"
   ]
  },
  {
   "cell_type": "code",
   "execution_count": 18,
   "metadata": {},
   "outputs": [
    {
     "name": "stdout",
     "output_type": "stream",
     "text": [
      "313/313 [==============================] - 1s 2ms/step - loss: 0.0741 - accuracy: 0.9795\n"
     ]
    },
    {
     "data": {
      "text/plain": [
       "[0.07412999868392944, 0.9794999957084656]"
      ]
     },
     "execution_count": 18,
     "metadata": {},
     "output_type": "execute_result"
    }
   ],
   "source": [
    "model.evaluate(x_test,y_test)"
   ]
  },
  {
   "cell_type": "code",
   "execution_count": 21,
   "metadata": {},
   "outputs": [],
   "source": [
    "x_new = x_test[0:5]"
   ]
  },
  {
   "cell_type": "code",
   "execution_count": 22,
   "metadata": {},
   "outputs": [
    {
     "data": {
      "text/plain": [
       "array([[0., 0., 0., 0., 0., 0., 0., 1., 0., 0.],\n",
       "       [0., 0., 1., 0., 0., 0., 0., 0., 0., 0.],\n",
       "       [0., 1., 0., 0., 0., 0., 0., 0., 0., 0.],\n",
       "       [1., 0., 0., 0., 0., 0., 0., 0., 0., 0.],\n",
       "       [0., 0., 0., 0., 1., 0., 0., 0., 0., 0.]], dtype=float32)"
      ]
     },
     "execution_count": 22,
     "metadata": {},
     "output_type": "execute_result"
    }
   ],
   "source": [
    "y_prob = model.predict(x_new)\n",
    "y_prob.round(2)"
   ]
  },
  {
   "cell_type": "code",
   "execution_count": 30,
   "metadata": {},
   "outputs": [
    {
     "data": {
      "text/plain": [
       "array([7, 2, 1, 0, 4], dtype=int64)"
      ]
     },
     "execution_count": 30,
     "metadata": {},
     "output_type": "execute_result"
    }
   ],
   "source": [
    "y_pred = np.argmax(y_prob, axis=-1)\n",
    "y_pred"
   ]
  },
  {
   "cell_type": "code",
   "execution_count": 36,
   "metadata": {},
   "outputs": [
    {
     "name": "stdout",
     "output_type": "stream",
     "text": [
      "['seven' 'two' 'one' 'zero' 'four']\n"
     ]
    }
   ],
   "source": [
    "classes = [\"zero\", \"one\", \"two\",\n",
    "         \"three\", \"four\", \"five\",\n",
    "         \"six\", \"seven\", \"eight\", \"nine\"]\n",
    "out = np.array(classes)[y_pred]\n",
    "print(out)"
   ]
  },
  {
   "cell_type": "code",
   "execution_count": 29,
   "metadata": {},
   "outputs": [
    {
     "data": {
      "text/plain": [
       "<matplotlib.image.AxesImage at 0x2080821c5b0>"
      ]
     },
     "execution_count": 29,
     "metadata": {},
     "output_type": "execute_result"
    },
    {
     "data": {
      "image/png": "[encoded data removed]",
      "text/plain": [
       "<Figure size 640x480 with 1 Axes>"
      ]
     },
     "metadata": {},
     "output_type": "display_data"
    }
   ],
   "source": [
    "plt.imshow(x_test[3])"
   ]
  },
  {
   "cell_type": "code",
   "execution_count": null,
   "metadata": {},
   "outputs": [],
   "source": []
  }
 ],
 "metadata": {
  "kernelspec": {
   "display_name": "Python 3",
   "language": "python",
   "name": "python3"
  },
  "language_info": {
   "codemirror_mode": {
    "name": "ipython",
    "version": 3
   },
   "file_extension": ".py",
   "mimetype": "text/x-python",
   "name": "python",
   "nbconvert_exporter": "python",
   "pygments_lexer": "ipython3",
   "version": "3.9.0"
  },
  "orig_nbformat": 4
 },
 "nbformat": 4,
 "nbformat_minor": 2
}
