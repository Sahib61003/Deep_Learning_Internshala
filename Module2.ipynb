{
 "cells": [
  {
   "cell_type": "markdown",
   "metadata": {},
   "source": [
    "# Introduction\n",
    "Introduction of Module 2 -  **Artificial Neural Networks**"
   ]
  },
  {
   "cell_type": "markdown",
   "metadata": {},
   "source": [
    "### Motivation behind Neural Networks\n",
    "Human Brain is good at image recognition or pattern recognition because it has neurons in it which performs pattern\n",
    "matching through input data. And there are no pre defined rules, *In the same way* Neural Networks works without pre defined rules. "
   ]
  },
  {
   "cell_type": "markdown",
   "metadata": {},
   "source": [
    "### Perceptron\n",
    "\n",
    "The perceptron is a simple algorithm which can be used for Deep Learning. It is a type of linear classifier, i.e. a classification algorithm that makes its predictions based on a linear predictor function combining a set of weights with the feature vector. It is also known as **Artificial Neuron**. It produces a binary output. It requires input layers and weights assigned to each condition to produce an output."
   ]
  },
  {
   "cell_type": "markdown",
   "metadata": {},
   "source": [
    "### Activation Functions\n",
    "\n",
    "-> We can remove binary restrictions on a perceptron i.e instead of black or white, we can classify as dark black or black or grey black or grey or light grey or white etc. \n",
    "\n",
    "-> Standard Equation :\n",
    "    here b refers to bias\n",
    "        y = 1 if wixi + wjxj + b > 0\n",
    "        y = 0 if wixi + wjxj + b <= 0  \n",
    "\n",
    "-> Graphical Representation : It has a Step Activation Function i.e O and then direct 1.\n",
    "\n",
    "-> Sigmoid Activation Function : also known as logistic function\n",
    "    \n",
    "here b refers to bias\n",
    "        \n",
    "    y = 1 if 1/(1+e^-(wixi + wjxj + b)) > 0.5\n",
    "        \n",
    "    y = 0 if 1/(1+e^-(wixi + wjxj + b)) <= 0.5\n",
    "\n",
    "Artificial Neuron with sigmoid activation is called sigmoid neuron or logistic neuron.\n",
    "\n",
    "\n"
   ]
  },
  {
   "cell_type": "code",
   "execution_count": null,
   "metadata": {},
   "outputs": [],
   "source": []
  }
 ],
 "metadata": {
  "language_info": {
   "name": "python"
  },
  "orig_nbformat": 4
 },
 "nbformat": 4,
 "nbformat_minor": 2
}
